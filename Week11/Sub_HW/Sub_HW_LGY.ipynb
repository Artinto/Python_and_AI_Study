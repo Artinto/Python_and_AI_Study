{
  "nbformat": 4,
  "nbformat_minor": 0,
  "metadata": {
    "accelerator": "GPU",
    "colab": {
      "name": "Sub_HW_LGY",
      "provenance": [],
      "collapsed_sections": []
    },
    "kernelspec": {
      "display_name": "Python 3",
      "name": "python3"
    },
    "language_info": {
      "name": "python"
    },
    "widgets": {
      "application/vnd.jupyter.widget-state+json": {
        "6b57e1bb702e47f2a9db2554fadbd681": {
          "model_module": "@jupyter-widgets/controls",
          "model_name": "HBoxModel",
          "state": {
            "_view_name": "HBoxView",
            "_dom_classes": [],
            "_model_name": "HBoxModel",
            "_view_module": "@jupyter-widgets/controls",
            "_model_module_version": "1.5.0",
            "_view_count": null,
            "_view_module_version": "1.5.0",
            "box_style": "",
            "layout": "IPY_MODEL_7f7093cd37864055b3515b45ef8efc08",
            "_model_module": "@jupyter-widgets/controls",
            "children": [
              "IPY_MODEL_af93d068bb634e91b33ac8ae848ffeb6",
              "IPY_MODEL_8b96454cc88641d891887d3ff6c56527"
            ]
          }
        },
        "7f7093cd37864055b3515b45ef8efc08": {
          "model_module": "@jupyter-widgets/base",
          "model_name": "LayoutModel",
          "state": {
            "_view_name": "LayoutView",
            "grid_template_rows": null,
            "right": null,
            "justify_content": null,
            "_view_module": "@jupyter-widgets/base",
            "overflow": null,
            "_model_module_version": "1.2.0",
            "_view_count": null,
            "flex_flow": null,
            "width": null,
            "min_width": null,
            "border": null,
            "align_items": null,
            "bottom": null,
            "_model_module": "@jupyter-widgets/base",
            "top": null,
            "grid_column": null,
            "overflow_y": null,
            "overflow_x": null,
            "grid_auto_flow": null,
            "grid_area": null,
            "grid_template_columns": null,
            "flex": null,
            "_model_name": "LayoutModel",
            "justify_items": null,
            "grid_row": null,
            "max_height": null,
            "align_content": null,
            "visibility": null,
            "align_self": null,
            "height": null,
            "min_height": null,
            "padding": null,
            "grid_auto_rows": null,
            "grid_gap": null,
            "max_width": null,
            "order": null,
            "_view_module_version": "1.2.0",
            "grid_template_areas": null,
            "object_position": null,
            "object_fit": null,
            "grid_auto_columns": null,
            "margin": null,
            "display": null,
            "left": null
          }
        },
        "af93d068bb634e91b33ac8ae848ffeb6": {
          "model_module": "@jupyter-widgets/controls",
          "model_name": "FloatProgressModel",
          "state": {
            "_view_name": "ProgressView",
            "style": "IPY_MODEL_288d7dfd72e24243b45946b36c47bae2",
            "_dom_classes": [],
            "description": "",
            "_model_name": "FloatProgressModel",
            "bar_style": "success",
            "max": 170498071,
            "_view_module": "@jupyter-widgets/controls",
            "_model_module_version": "1.5.0",
            "value": 170498071,
            "_view_count": null,
            "_view_module_version": "1.5.0",
            "orientation": "horizontal",
            "min": 0,
            "description_tooltip": null,
            "_model_module": "@jupyter-widgets/controls",
            "layout": "IPY_MODEL_21d1e445d9984142a351a4b8535acc9c"
          }
        },
        "8b96454cc88641d891887d3ff6c56527": {
          "model_module": "@jupyter-widgets/controls",
          "model_name": "HTMLModel",
          "state": {
            "_view_name": "HTMLView",
            "style": "IPY_MODEL_8e7a176a7fb847bab161b8752ada4605",
            "_dom_classes": [],
            "description": "",
            "_model_name": "HTMLModel",
            "placeholder": "​",
            "_view_module": "@jupyter-widgets/controls",
            "_model_module_version": "1.5.0",
            "value": " 170499072/? [00:02&lt;00:00, 84570670.66it/s]",
            "_view_count": null,
            "_view_module_version": "1.5.0",
            "description_tooltip": null,
            "_model_module": "@jupyter-widgets/controls",
            "layout": "IPY_MODEL_c164846761c44dd1837028a0b5bad831"
          }
        },
        "288d7dfd72e24243b45946b36c47bae2": {
          "model_module": "@jupyter-widgets/controls",
          "model_name": "ProgressStyleModel",
          "state": {
            "_view_name": "StyleView",
            "_model_name": "ProgressStyleModel",
            "description_width": "initial",
            "_view_module": "@jupyter-widgets/base",
            "_model_module_version": "1.5.0",
            "_view_count": null,
            "_view_module_version": "1.2.0",
            "bar_color": null,
            "_model_module": "@jupyter-widgets/controls"
          }
        },
        "21d1e445d9984142a351a4b8535acc9c": {
          "model_module": "@jupyter-widgets/base",
          "model_name": "LayoutModel",
          "state": {
            "_view_name": "LayoutView",
            "grid_template_rows": null,
            "right": null,
            "justify_content": null,
            "_view_module": "@jupyter-widgets/base",
            "overflow": null,
            "_model_module_version": "1.2.0",
            "_view_count": null,
            "flex_flow": null,
            "width": null,
            "min_width": null,
            "border": null,
            "align_items": null,
            "bottom": null,
            "_model_module": "@jupyter-widgets/base",
            "top": null,
            "grid_column": null,
            "overflow_y": null,
            "overflow_x": null,
            "grid_auto_flow": null,
            "grid_area": null,
            "grid_template_columns": null,
            "flex": null,
            "_model_name": "LayoutModel",
            "justify_items": null,
            "grid_row": null,
            "max_height": null,
            "align_content": null,
            "visibility": null,
            "align_self": null,
            "height": null,
            "min_height": null,
            "padding": null,
            "grid_auto_rows": null,
            "grid_gap": null,
            "max_width": null,
            "order": null,
            "_view_module_version": "1.2.0",
            "grid_template_areas": null,
            "object_position": null,
            "object_fit": null,
            "grid_auto_columns": null,
            "margin": null,
            "display": null,
            "left": null
          }
        },
        "8e7a176a7fb847bab161b8752ada4605": {
          "model_module": "@jupyter-widgets/controls",
          "model_name": "DescriptionStyleModel",
          "state": {
            "_view_name": "StyleView",
            "_model_name": "DescriptionStyleModel",
            "description_width": "",
            "_view_module": "@jupyter-widgets/base",
            "_model_module_version": "1.5.0",
            "_view_count": null,
            "_view_module_version": "1.2.0",
            "_model_module": "@jupyter-widgets/controls"
          }
        },
        "c164846761c44dd1837028a0b5bad831": {
          "model_module": "@jupyter-widgets/base",
          "model_name": "LayoutModel",
          "state": {
            "_view_name": "LayoutView",
            "grid_template_rows": null,
            "right": null,
            "justify_content": null,
            "_view_module": "@jupyter-widgets/base",
            "overflow": null,
            "_model_module_version": "1.2.0",
            "_view_count": null,
            "flex_flow": null,
            "width": null,
            "min_width": null,
            "border": null,
            "align_items": null,
            "bottom": null,
            "_model_module": "@jupyter-widgets/base",
            "top": null,
            "grid_column": null,
            "overflow_y": null,
            "overflow_x": null,
            "grid_auto_flow": null,
            "grid_area": null,
            "grid_template_columns": null,
            "flex": null,
            "_model_name": "LayoutModel",
            "justify_items": null,
            "grid_row": null,
            "max_height": null,
            "align_content": null,
            "visibility": null,
            "align_self": null,
            "height": null,
            "min_height": null,
            "padding": null,
            "grid_auto_rows": null,
            "grid_gap": null,
            "max_width": null,
            "order": null,
            "_view_module_version": "1.2.0",
            "grid_template_areas": null,
            "object_position": null,
            "object_fit": null,
            "grid_auto_columns": null,
            "margin": null,
            "display": null,
            "left": null
          }
        }
      }
    }
  },
  "cells": [
    {
      "cell_type": "markdown",
      "metadata": {
        "id": "yd492Kyqh7JE"
      },
      "source": [
        "# 실습 2-1: Softmax Classification 만들기 (with.CNN)"
      ]
    },
    {
      "cell_type": "markdown",
      "metadata": {
        "id": "LHpyz-wWjP5J"
      },
      "source": [
        "## 1. 필요한 모듈 선언하기"
      ]
    },
    {
      "cell_type": "code",
      "metadata": {
        "id": "Cc3QUqfnhZFd"
      },
      "source": [
        "import torch \n",
        "from torch import nn, optim, cuda\n",
        "from torch.utils import data\n",
        "import torch.nn.functional as F\n",
        "import time\n",
        "import torchvision\n",
        "from torchvision import datasets, transforms\n",
        "import numpy as np\n",
        "\n",
        "from torch.autograd import Variable"
      ],
      "execution_count": 1,
      "outputs": []
    },
    {
      "cell_type": "markdown",
      "metadata": {
        "id": "TKFp1lVajXUW"
      },
      "source": [
        "## 2. Device 선언 및 랜덤 시드 고정"
      ]
    },
    {
      "cell_type": "markdown",
      "metadata": {
        "id": "N99zNRQsjow2"
      },
      "source": [
        "### 2-1) device 선언"
      ]
    },
    {
      "cell_type": "code",
      "metadata": {
        "id": "TENGKZT9jZrb"
      },
      "source": [
        "device = 'cuda' if cuda.is_available() else 'cpu' # GPU 사용가능하면 사용, 없으면 CPU"
      ],
      "execution_count": 2,
      "outputs": []
    },
    {
      "cell_type": "markdown",
      "metadata": {
        "id": "uHb1vR39j2wU"
      },
      "source": [
        "### 2-2) 랜덤 시드 고정"
      ]
    },
    {
      "cell_type": "code",
      "metadata": {
        "id": "0XoiNlJIj72v"
      },
      "source": [
        "torch.manual_seed(777)\n",
        "if device=='cuda':\n",
        "  torch.cuda.manual_seed_all(777)"
      ],
      "execution_count": 3,
      "outputs": []
    },
    {
      "cell_type": "markdown",
      "metadata": {
        "id": "lAcqh5hVt943"
      },
      "source": [
        "## 3. 데이터셋 불러오기¶"
      ]
    },
    {
      "cell_type": "markdown",
      "metadata": {
        "id": "WPfoqcabKWbT"
      },
      "source": [
        "### 3-1) 이미지 전처리"
      ]
    },
    {
      "cell_type": "code",
      "metadata": {
        "id": "lCHSNoXnhijY"
      },
      "source": [
        "transform = transforms.Compose([transforms.ToTensor(),transforms.Normalize((0.5, 0.5, 0.5), (0.5, 0.5, 0.5))])"
      ],
      "execution_count": 4,
      "outputs": []
    },
    {
      "cell_type": "markdown",
      "metadata": {
        "id": "7ANqumQyKkjg"
      },
      "source": [
        "### 3-2) 데이터셋 불러오기"
      ]
    },
    {
      "cell_type": "code",
      "metadata": {
        "colab": {
          "base_uri": "https://localhost:8080/",
          "height": 118,
          "referenced_widgets": [
            "6b57e1bb702e47f2a9db2554fadbd681",
            "7f7093cd37864055b3515b45ef8efc08",
            "af93d068bb634e91b33ac8ae848ffeb6",
            "8b96454cc88641d891887d3ff6c56527",
            "288d7dfd72e24243b45946b36c47bae2",
            "21d1e445d9984142a351a4b8535acc9c",
            "8e7a176a7fb847bab161b8752ada4605",
            "c164846761c44dd1837028a0b5bad831"
          ]
        },
        "id": "Q3MIedSyKddE",
        "outputId": "012f0979-ed9b-4b4f-8a5e-f2d7fbf9d1cf"
      },
      "source": [
        "trainset = torchvision.datasets.CIFAR10(root='./data', train=True,\n",
        "                                        download=True, transform=transform)\n",
        "trainloader = torch.utils.data.DataLoader(trainset, batch_size=128,\n",
        "                                          shuffle=True, num_workers=2)\n",
        "\n",
        "testset = torchvision.datasets.CIFAR10(root='./data', train=False,\n",
        "                                       download=True, transform=transform)\n",
        "testloader = torch.utils.data.DataLoader(testset, batch_size=64,\n",
        "                                         shuffle=False, num_workers=2)\n",
        "\n",
        "classes = ('plane', 'car', 'bird', 'cat',\n",
        "           'deer', 'dog', 'frog', 'horse', 'ship', 'truck')"
      ],
      "execution_count": 5,
      "outputs": [
        {
          "output_type": "stream",
          "text": [
            "Downloading https://www.cs.toronto.edu/~kriz/cifar-10-python.tar.gz to ./data/cifar-10-python.tar.gz\n"
          ],
          "name": "stdout"
        },
        {
          "output_type": "display_data",
          "data": {
            "application/vnd.jupyter.widget-view+json": {
              "model_id": "6b57e1bb702e47f2a9db2554fadbd681",
              "version_minor": 0,
              "version_major": 2
            },
            "text/plain": [
              "HBox(children=(FloatProgress(value=0.0, max=170498071.0), HTML(value='')))"
            ]
          },
          "metadata": {
            "tags": []
          }
        },
        {
          "output_type": "stream",
          "text": [
            "\n",
            "Extracting ./data/cifar-10-python.tar.gz to ./data\n",
            "Files already downloaded and verified\n"
          ],
          "name": "stdout"
        }
      ]
    },
    {
      "cell_type": "markdown",
      "metadata": {
        "id": "igINBGCNK6df"
      },
      "source": [
        "## 4. 모델 선언"
      ]
    },
    {
      "cell_type": "markdown",
      "metadata": {
        "id": "CO0Wu_fRLAQ0"
      },
      "source": [
        "### 4-1) class로 Model 만들기 "
      ]
    },
    {
      "cell_type": "code",
      "metadata": {
        "id": "Jc_NlSj9hlhy"
      },
      "source": [
        "\n",
        "class Net(nn.Module):\n",
        "\n",
        "    def __init__(self):\n",
        "        super(Net, self).__init__()\n",
        "        self.conv1 = nn.Conv2d(3, 20 , kernel_size=5, padding=2)\n",
        "        self.conv2 = nn.Conv2d(20, 40, kernel_size=5, padding=2)\n",
        "        self.mp = nn.MaxPool2d(2)\n",
        "        self.fc1 = nn.Linear(320*8, 32*8)\n",
        "        self.fc2 = nn.Linear(32*8, 64)\n",
        "        self.fc3 = nn.Linear(64, 10)\n",
        "\n",
        "    def forward(self, x):\n",
        "        in_size = x.size(0)\n",
        "        x = F.relu(self.mp(self.conv1(x)))\n",
        "        x = F.relu(self.mp(self.conv2(x)))\n",
        "        # print(x.size())\n",
        "        x = x.view(-1,320*8) # flatten the tensor\n",
        "        \n",
        "        x = self.fc3(self.fc2(self.fc1(x)))\n",
        "        \n",
        "        return F.log_softmax(x,dim=1)\n",
        "        # F.softmax() + torch.log() = F.log_softmax()\n",
        "        # dim=1이어야 함.\n",
        "\n"
      ],
      "execution_count": 6,
      "outputs": []
    },
    {
      "cell_type": "markdown",
      "metadata": {
        "id": "8e_b4-XlLgOg"
      },
      "source": [
        "4-2) Model 선언"
      ]
    },
    {
      "cell_type": "code",
      "metadata": {
        "colab": {
          "base_uri": "https://localhost:8080/"
        },
        "id": "Pk5FJfYQhnwL",
        "outputId": "735c920a-028c-446b-d573-224204a3950c"
      },
      "source": [
        "model = Net()\n",
        "model.to(device)"
      ],
      "execution_count": 7,
      "outputs": [
        {
          "output_type": "execute_result",
          "data": {
            "text/plain": [
              "Net(\n",
              "  (conv1): Conv2d(3, 20, kernel_size=(5, 5), stride=(1, 1), padding=(2, 2))\n",
              "  (conv2): Conv2d(20, 40, kernel_size=(5, 5), stride=(1, 1), padding=(2, 2))\n",
              "  (mp): MaxPool2d(kernel_size=2, stride=2, padding=0, dilation=1, ceil_mode=False)\n",
              "  (fc1): Linear(in_features=2560, out_features=256, bias=True)\n",
              "  (fc2): Linear(in_features=256, out_features=64, bias=True)\n",
              "  (fc3): Linear(in_features=64, out_features=10, bias=True)\n",
              ")"
            ]
          },
          "metadata": {
            "tags": []
          },
          "execution_count": 7
        }
      ]
    },
    {
      "cell_type": "markdown",
      "metadata": {
        "id": "GPtNbBQFLqXY"
      },
      "source": [
        "## 5. 학습 시작"
      ]
    },
    {
      "cell_type": "markdown",
      "metadata": {
        "id": "GuUreHQMLv7o"
      },
      "source": [
        "### 5-1) loss 및 optimizer 선언"
      ]
    },
    {
      "cell_type": "code",
      "metadata": {
        "id": "AcOIxvSULpSu"
      },
      "source": [
        "optimizer = optim.Adam(model.parameters(), lr= 0.001)"
      ],
      "execution_count": 8,
      "outputs": []
    },
    {
      "cell_type": "markdown",
      "metadata": {
        "id": "aqG6RMwmQpil"
      },
      "source": [
        "### 5-2) train, test 함수 "
      ]
    },
    {
      "cell_type": "code",
      "metadata": {
        "id": "CRJ06cXYL2QT"
      },
      "source": [
        " # 학습\n",
        "\n",
        "def train():\n",
        "    model.train()\n",
        "    for batch_idx, (data, target) in enumerate(trainloader):\n",
        "        data = data.to(device)\n",
        "        target = target.to(device)\n",
        "        optimizer.zero_grad()\n",
        "        output = model(data)\n",
        "        loss = F.nll_loss(output, target)  #\n",
        "        loss.backward()\n",
        "        optimizer.step()\n",
        "        if batch_idx % 10 == 0:\n",
        "            print('Train Epoch: {} [{}/{} ({:.0f}%)]\\tLoss: {:.6f}'.format(\n",
        "                epoch, batch_idx * len(data), len(trainloader.dataset),\n",
        "                100. * batch_idx / len(trainloader), loss.item()))\n",
        "\n",
        "\n",
        "def test():\n",
        "    model.eval()\n",
        "    test_loss = 0\n",
        "    correct = 0\n",
        "    for data, target in testloader:\n",
        "        data = data.to(device)\n",
        "        target = target.to(device)\n",
        "        output = model(data)\n",
        "        # sum up batch loss\n",
        "        test_loss += F.nll_loss(output, target, size_average=True).data\n",
        "        # get the index of the max log-probability\n",
        "        pred = output.data.max(1, keepdim=True)[1]\n",
        "        correct += pred.eq(target.data.view_as(pred)).cpu().sum()\n",
        "\n",
        "    test_loss /= len(testloader.dataset)\n",
        "    print('\\nTest set: Average loss: {:.4f}, Accuracy: {}/{} ({:.0f}%)\\n'.format(\n",
        "        test_loss, correct, len(testloader.dataset),\n",
        "        100. * correct / len(testloader.dataset)))\n"
      ],
      "execution_count": 10,
      "outputs": []
    },
    {
      "cell_type": "code",
      "metadata": {
        "colab": {
          "base_uri": "https://localhost:8080/"
        },
        "id": "qzzlQmGWQ41L",
        "outputId": "c0d351fe-6c5b-4ee9-9953-bfcba3923b90"
      },
      "source": [
        "\n",
        "for epoch in range(1, 10):\n",
        "    train()\n",
        "    test()"
      ],
      "execution_count": 11,
      "outputs": [
        {
          "output_type": "stream",
          "text": [
            "Train Epoch: 1 [0/50000 (0%)]\tLoss: 2.301540\n",
            "Train Epoch: 1 [1280/50000 (3%)]\tLoss: 2.105326\n",
            "Train Epoch: 1 [2560/50000 (5%)]\tLoss: 1.893014\n",
            "Train Epoch: 1 [3840/50000 (8%)]\tLoss: 1.804483\n",
            "Train Epoch: 1 [5120/50000 (10%)]\tLoss: 1.829449\n",
            "Train Epoch: 1 [6400/50000 (13%)]\tLoss: 1.511289\n",
            "Train Epoch: 1 [7680/50000 (15%)]\tLoss: 1.472245\n",
            "Train Epoch: 1 [8960/50000 (18%)]\tLoss: 1.620910\n",
            "Train Epoch: 1 [10240/50000 (20%)]\tLoss: 1.476577\n",
            "Train Epoch: 1 [11520/50000 (23%)]\tLoss: 1.366448\n",
            "Train Epoch: 1 [12800/50000 (26%)]\tLoss: 1.513128\n",
            "Train Epoch: 1 [14080/50000 (28%)]\tLoss: 1.496622\n",
            "Train Epoch: 1 [15360/50000 (31%)]\tLoss: 1.377253\n",
            "Train Epoch: 1 [16640/50000 (33%)]\tLoss: 1.415315\n",
            "Train Epoch: 1 [17920/50000 (36%)]\tLoss: 1.506033\n",
            "Train Epoch: 1 [19200/50000 (38%)]\tLoss: 1.439693\n",
            "Train Epoch: 1 [20480/50000 (41%)]\tLoss: 1.264193\n",
            "Train Epoch: 1 [21760/50000 (43%)]\tLoss: 1.251308\n",
            "Train Epoch: 1 [23040/50000 (46%)]\tLoss: 1.187360\n",
            "Train Epoch: 1 [24320/50000 (49%)]\tLoss: 1.330283\n",
            "Train Epoch: 1 [25600/50000 (51%)]\tLoss: 1.262147\n",
            "Train Epoch: 1 [26880/50000 (54%)]\tLoss: 1.301665\n",
            "Train Epoch: 1 [28160/50000 (56%)]\tLoss: 1.245816\n",
            "Train Epoch: 1 [29440/50000 (59%)]\tLoss: 1.251823\n",
            "Train Epoch: 1 [30720/50000 (61%)]\tLoss: 1.245638\n",
            "Train Epoch: 1 [32000/50000 (64%)]\tLoss: 1.182441\n",
            "Train Epoch: 1 [33280/50000 (66%)]\tLoss: 1.224260\n",
            "Train Epoch: 1 [34560/50000 (69%)]\tLoss: 1.103506\n",
            "Train Epoch: 1 [35840/50000 (72%)]\tLoss: 1.202171\n",
            "Train Epoch: 1 [37120/50000 (74%)]\tLoss: 1.203848\n",
            "Train Epoch: 1 [38400/50000 (77%)]\tLoss: 1.123463\n",
            "Train Epoch: 1 [39680/50000 (79%)]\tLoss: 1.127571\n",
            "Train Epoch: 1 [40960/50000 (82%)]\tLoss: 1.061365\n",
            "Train Epoch: 1 [42240/50000 (84%)]\tLoss: 0.991085\n",
            "Train Epoch: 1 [43520/50000 (87%)]\tLoss: 1.246695\n",
            "Train Epoch: 1 [44800/50000 (90%)]\tLoss: 1.228744\n",
            "Train Epoch: 1 [46080/50000 (92%)]\tLoss: 1.142540\n",
            "Train Epoch: 1 [47360/50000 (95%)]\tLoss: 1.170360\n",
            "Train Epoch: 1 [48640/50000 (97%)]\tLoss: 1.138583\n",
            "Train Epoch: 1 [31200/50000 (100%)]\tLoss: 1.072162\n"
          ],
          "name": "stdout"
        },
        {
          "output_type": "stream",
          "text": [
            "/usr/local/lib/python3.7/dist-packages/torch/nn/_reduction.py:42: UserWarning: size_average and reduce args will be deprecated, please use reduction='mean' instead.\n",
            "  warnings.warn(warning.format(ret))\n"
          ],
          "name": "stderr"
        },
        {
          "output_type": "stream",
          "text": [
            "\n",
            "Test set: Average loss: 0.0177, Accuracy: 6010/10000 (60%)\n",
            "\n",
            "Train Epoch: 2 [0/50000 (0%)]\tLoss: 1.089407\n",
            "Train Epoch: 2 [1280/50000 (3%)]\tLoss: 1.070590\n",
            "Train Epoch: 2 [2560/50000 (5%)]\tLoss: 1.079614\n",
            "Train Epoch: 2 [3840/50000 (8%)]\tLoss: 1.099728\n",
            "Train Epoch: 2 [5120/50000 (10%)]\tLoss: 1.201968\n",
            "Train Epoch: 2 [6400/50000 (13%)]\tLoss: 1.140289\n",
            "Train Epoch: 2 [7680/50000 (15%)]\tLoss: 1.069656\n",
            "Train Epoch: 2 [8960/50000 (18%)]\tLoss: 1.073724\n",
            "Train Epoch: 2 [10240/50000 (20%)]\tLoss: 1.045197\n",
            "Train Epoch: 2 [11520/50000 (23%)]\tLoss: 1.157052\n",
            "Train Epoch: 2 [12800/50000 (26%)]\tLoss: 1.014917\n",
            "Train Epoch: 2 [14080/50000 (28%)]\tLoss: 1.144916\n",
            "Train Epoch: 2 [15360/50000 (31%)]\tLoss: 1.142665\n",
            "Train Epoch: 2 [16640/50000 (33%)]\tLoss: 1.007914\n",
            "Train Epoch: 2 [17920/50000 (36%)]\tLoss: 0.938508\n",
            "Train Epoch: 2 [19200/50000 (38%)]\tLoss: 1.086786\n",
            "Train Epoch: 2 [20480/50000 (41%)]\tLoss: 0.968298\n",
            "Train Epoch: 2 [21760/50000 (43%)]\tLoss: 1.035373\n",
            "Train Epoch: 2 [23040/50000 (46%)]\tLoss: 0.999626\n",
            "Train Epoch: 2 [24320/50000 (49%)]\tLoss: 1.012698\n",
            "Train Epoch: 2 [25600/50000 (51%)]\tLoss: 1.058525\n",
            "Train Epoch: 2 [26880/50000 (54%)]\tLoss: 1.082346\n",
            "Train Epoch: 2 [28160/50000 (56%)]\tLoss: 0.991640\n",
            "Train Epoch: 2 [29440/50000 (59%)]\tLoss: 1.016743\n",
            "Train Epoch: 2 [30720/50000 (61%)]\tLoss: 1.058216\n",
            "Train Epoch: 2 [32000/50000 (64%)]\tLoss: 0.987671\n",
            "Train Epoch: 2 [33280/50000 (66%)]\tLoss: 0.940098\n",
            "Train Epoch: 2 [34560/50000 (69%)]\tLoss: 0.986481\n",
            "Train Epoch: 2 [35840/50000 (72%)]\tLoss: 1.068087\n",
            "Train Epoch: 2 [37120/50000 (74%)]\tLoss: 1.074896\n",
            "Train Epoch: 2 [38400/50000 (77%)]\tLoss: 0.777227\n",
            "Train Epoch: 2 [39680/50000 (79%)]\tLoss: 1.013777\n",
            "Train Epoch: 2 [40960/50000 (82%)]\tLoss: 0.852455\n",
            "Train Epoch: 2 [42240/50000 (84%)]\tLoss: 0.890637\n",
            "Train Epoch: 2 [43520/50000 (87%)]\tLoss: 1.108823\n",
            "Train Epoch: 2 [44800/50000 (90%)]\tLoss: 0.855507\n",
            "Train Epoch: 2 [46080/50000 (92%)]\tLoss: 1.129494\n",
            "Train Epoch: 2 [47360/50000 (95%)]\tLoss: 0.982485\n",
            "Train Epoch: 2 [48640/50000 (97%)]\tLoss: 1.110573\n",
            "Train Epoch: 2 [31200/50000 (100%)]\tLoss: 0.806114\n",
            "\n",
            "Test set: Average loss: 0.0158, Accuracy: 6432/10000 (64%)\n",
            "\n",
            "Train Epoch: 3 [0/50000 (0%)]\tLoss: 0.887923\n",
            "Train Epoch: 3 [1280/50000 (3%)]\tLoss: 0.999975\n",
            "Train Epoch: 3 [2560/50000 (5%)]\tLoss: 1.036135\n",
            "Train Epoch: 3 [3840/50000 (8%)]\tLoss: 0.935558\n",
            "Train Epoch: 3 [5120/50000 (10%)]\tLoss: 0.907780\n",
            "Train Epoch: 3 [6400/50000 (13%)]\tLoss: 0.912644\n",
            "Train Epoch: 3 [7680/50000 (15%)]\tLoss: 0.782486\n",
            "Train Epoch: 3 [8960/50000 (18%)]\tLoss: 1.017424\n",
            "Train Epoch: 3 [10240/50000 (20%)]\tLoss: 0.833344\n",
            "Train Epoch: 3 [11520/50000 (23%)]\tLoss: 0.884914\n",
            "Train Epoch: 3 [12800/50000 (26%)]\tLoss: 0.797240\n",
            "Train Epoch: 3 [14080/50000 (28%)]\tLoss: 0.833055\n",
            "Train Epoch: 3 [15360/50000 (31%)]\tLoss: 0.867738\n",
            "Train Epoch: 3 [16640/50000 (33%)]\tLoss: 0.768930\n",
            "Train Epoch: 3 [17920/50000 (36%)]\tLoss: 0.754133\n",
            "Train Epoch: 3 [19200/50000 (38%)]\tLoss: 0.914832\n",
            "Train Epoch: 3 [20480/50000 (41%)]\tLoss: 0.822962\n",
            "Train Epoch: 3 [21760/50000 (43%)]\tLoss: 0.898657\n",
            "Train Epoch: 3 [23040/50000 (46%)]\tLoss: 1.057265\n",
            "Train Epoch: 3 [24320/50000 (49%)]\tLoss: 1.021523\n",
            "Train Epoch: 3 [25600/50000 (51%)]\tLoss: 0.853935\n",
            "Train Epoch: 3 [26880/50000 (54%)]\tLoss: 0.933838\n",
            "Train Epoch: 3 [28160/50000 (56%)]\tLoss: 0.841911\n",
            "Train Epoch: 3 [29440/50000 (59%)]\tLoss: 1.089792\n",
            "Train Epoch: 3 [30720/50000 (61%)]\tLoss: 1.095190\n",
            "Train Epoch: 3 [32000/50000 (64%)]\tLoss: 0.784161\n",
            "Train Epoch: 3 [33280/50000 (66%)]\tLoss: 0.749585\n",
            "Train Epoch: 3 [34560/50000 (69%)]\tLoss: 0.845669\n",
            "Train Epoch: 3 [35840/50000 (72%)]\tLoss: 0.958927\n",
            "Train Epoch: 3 [37120/50000 (74%)]\tLoss: 0.845100\n",
            "Train Epoch: 3 [38400/50000 (77%)]\tLoss: 0.644529\n",
            "Train Epoch: 3 [39680/50000 (79%)]\tLoss: 0.859202\n",
            "Train Epoch: 3 [40960/50000 (82%)]\tLoss: 0.926093\n",
            "Train Epoch: 3 [42240/50000 (84%)]\tLoss: 0.862694\n",
            "Train Epoch: 3 [43520/50000 (87%)]\tLoss: 0.869804\n",
            "Train Epoch: 3 [44800/50000 (90%)]\tLoss: 0.832653\n",
            "Train Epoch: 3 [46080/50000 (92%)]\tLoss: 0.819563\n",
            "Train Epoch: 3 [47360/50000 (95%)]\tLoss: 0.817055\n",
            "Train Epoch: 3 [48640/50000 (97%)]\tLoss: 0.789120\n",
            "Train Epoch: 3 [31200/50000 (100%)]\tLoss: 0.959930\n",
            "\n",
            "Test set: Average loss: 0.0142, Accuracy: 6886/10000 (69%)\n",
            "\n",
            "Train Epoch: 4 [0/50000 (0%)]\tLoss: 0.960350\n",
            "Train Epoch: 4 [1280/50000 (3%)]\tLoss: 0.793679\n",
            "Train Epoch: 4 [2560/50000 (5%)]\tLoss: 0.786734\n",
            "Train Epoch: 4 [3840/50000 (8%)]\tLoss: 0.837109\n",
            "Train Epoch: 4 [5120/50000 (10%)]\tLoss: 0.780179\n",
            "Train Epoch: 4 [6400/50000 (13%)]\tLoss: 0.632424\n",
            "Train Epoch: 4 [7680/50000 (15%)]\tLoss: 0.782233\n",
            "Train Epoch: 4 [8960/50000 (18%)]\tLoss: 0.799655\n",
            "Train Epoch: 4 [10240/50000 (20%)]\tLoss: 0.888482\n",
            "Train Epoch: 4 [11520/50000 (23%)]\tLoss: 0.799370\n",
            "Train Epoch: 4 [12800/50000 (26%)]\tLoss: 0.925410\n",
            "Train Epoch: 4 [14080/50000 (28%)]\tLoss: 0.779839\n",
            "Train Epoch: 4 [15360/50000 (31%)]\tLoss: 0.860389\n",
            "Train Epoch: 4 [16640/50000 (33%)]\tLoss: 0.864520\n",
            "Train Epoch: 4 [17920/50000 (36%)]\tLoss: 0.970050\n",
            "Train Epoch: 4 [19200/50000 (38%)]\tLoss: 0.749329\n",
            "Train Epoch: 4 [20480/50000 (41%)]\tLoss: 0.903719\n",
            "Train Epoch: 4 [21760/50000 (43%)]\tLoss: 0.827839\n",
            "Train Epoch: 4 [23040/50000 (46%)]\tLoss: 0.756233\n",
            "Train Epoch: 4 [24320/50000 (49%)]\tLoss: 0.853165\n",
            "Train Epoch: 4 [25600/50000 (51%)]\tLoss: 0.752776\n",
            "Train Epoch: 4 [26880/50000 (54%)]\tLoss: 0.828661\n",
            "Train Epoch: 4 [28160/50000 (56%)]\tLoss: 1.001995\n",
            "Train Epoch: 4 [29440/50000 (59%)]\tLoss: 0.907791\n",
            "Train Epoch: 4 [30720/50000 (61%)]\tLoss: 0.863979\n",
            "Train Epoch: 4 [32000/50000 (64%)]\tLoss: 0.905755\n",
            "Train Epoch: 4 [33280/50000 (66%)]\tLoss: 0.859307\n",
            "Train Epoch: 4 [34560/50000 (69%)]\tLoss: 0.780711\n",
            "Train Epoch: 4 [35840/50000 (72%)]\tLoss: 0.930200\n",
            "Train Epoch: 4 [37120/50000 (74%)]\tLoss: 0.975667\n",
            "Train Epoch: 4 [38400/50000 (77%)]\tLoss: 0.703568\n",
            "Train Epoch: 4 [39680/50000 (79%)]\tLoss: 0.884201\n",
            "Train Epoch: 4 [40960/50000 (82%)]\tLoss: 0.893171\n",
            "Train Epoch: 4 [42240/50000 (84%)]\tLoss: 0.827197\n",
            "Train Epoch: 4 [43520/50000 (87%)]\tLoss: 0.775617\n",
            "Train Epoch: 4 [44800/50000 (90%)]\tLoss: 0.890801\n",
            "Train Epoch: 4 [46080/50000 (92%)]\tLoss: 0.804946\n",
            "Train Epoch: 4 [47360/50000 (95%)]\tLoss: 1.042342\n",
            "Train Epoch: 4 [48640/50000 (97%)]\tLoss: 0.759314\n",
            "Train Epoch: 4 [31200/50000 (100%)]\tLoss: 1.171024\n",
            "\n",
            "Test set: Average loss: 0.0146, Accuracy: 6794/10000 (68%)\n",
            "\n",
            "Train Epoch: 5 [0/50000 (0%)]\tLoss: 0.718173\n",
            "Train Epoch: 5 [1280/50000 (3%)]\tLoss: 0.810228\n",
            "Train Epoch: 5 [2560/50000 (5%)]\tLoss: 0.774134\n",
            "Train Epoch: 5 [3840/50000 (8%)]\tLoss: 0.789891\n",
            "Train Epoch: 5 [5120/50000 (10%)]\tLoss: 0.766950\n",
            "Train Epoch: 5 [6400/50000 (13%)]\tLoss: 0.838045\n",
            "Train Epoch: 5 [7680/50000 (15%)]\tLoss: 0.816409\n",
            "Train Epoch: 5 [8960/50000 (18%)]\tLoss: 0.647375\n",
            "Train Epoch: 5 [10240/50000 (20%)]\tLoss: 0.764806\n",
            "Train Epoch: 5 [11520/50000 (23%)]\tLoss: 0.847905\n",
            "Train Epoch: 5 [12800/50000 (26%)]\tLoss: 0.677874\n",
            "Train Epoch: 5 [14080/50000 (28%)]\tLoss: 0.847463\n",
            "Train Epoch: 5 [15360/50000 (31%)]\tLoss: 0.642368\n",
            "Train Epoch: 5 [16640/50000 (33%)]\tLoss: 0.818141\n",
            "Train Epoch: 5 [17920/50000 (36%)]\tLoss: 0.655070\n",
            "Train Epoch: 5 [19200/50000 (38%)]\tLoss: 0.791109\n",
            "Train Epoch: 5 [20480/50000 (41%)]\tLoss: 0.840025\n",
            "Train Epoch: 5 [21760/50000 (43%)]\tLoss: 0.755363\n",
            "Train Epoch: 5 [23040/50000 (46%)]\tLoss: 0.830794\n",
            "Train Epoch: 5 [24320/50000 (49%)]\tLoss: 0.813664\n",
            "Train Epoch: 5 [25600/50000 (51%)]\tLoss: 0.575260\n",
            "Train Epoch: 5 [26880/50000 (54%)]\tLoss: 0.802937\n",
            "Train Epoch: 5 [28160/50000 (56%)]\tLoss: 0.712170\n",
            "Train Epoch: 5 [29440/50000 (59%)]\tLoss: 0.768413\n",
            "Train Epoch: 5 [30720/50000 (61%)]\tLoss: 1.122845\n",
            "Train Epoch: 5 [32000/50000 (64%)]\tLoss: 0.664484\n",
            "Train Epoch: 5 [33280/50000 (66%)]\tLoss: 0.838014\n",
            "Train Epoch: 5 [34560/50000 (69%)]\tLoss: 0.742997\n",
            "Train Epoch: 5 [35840/50000 (72%)]\tLoss: 0.746446\n",
            "Train Epoch: 5 [37120/50000 (74%)]\tLoss: 0.690669\n",
            "Train Epoch: 5 [38400/50000 (77%)]\tLoss: 0.696414\n",
            "Train Epoch: 5 [39680/50000 (79%)]\tLoss: 0.747607\n",
            "Train Epoch: 5 [40960/50000 (82%)]\tLoss: 0.862307\n",
            "Train Epoch: 5 [42240/50000 (84%)]\tLoss: 0.802711\n",
            "Train Epoch: 5 [43520/50000 (87%)]\tLoss: 0.726420\n",
            "Train Epoch: 5 [44800/50000 (90%)]\tLoss: 0.734594\n",
            "Train Epoch: 5 [46080/50000 (92%)]\tLoss: 0.720654\n",
            "Train Epoch: 5 [47360/50000 (95%)]\tLoss: 0.771023\n",
            "Train Epoch: 5 [48640/50000 (97%)]\tLoss: 0.899009\n",
            "Train Epoch: 5 [31200/50000 (100%)]\tLoss: 0.806607\n",
            "\n",
            "Test set: Average loss: 0.0145, Accuracy: 6852/10000 (69%)\n",
            "\n",
            "Train Epoch: 6 [0/50000 (0%)]\tLoss: 0.814684\n",
            "Train Epoch: 6 [1280/50000 (3%)]\tLoss: 0.677420\n",
            "Train Epoch: 6 [2560/50000 (5%)]\tLoss: 0.751439\n",
            "Train Epoch: 6 [3840/50000 (8%)]\tLoss: 0.699035\n",
            "Train Epoch: 6 [5120/50000 (10%)]\tLoss: 0.743955\n",
            "Train Epoch: 6 [6400/50000 (13%)]\tLoss: 0.666837\n",
            "Train Epoch: 6 [7680/50000 (15%)]\tLoss: 0.588713\n",
            "Train Epoch: 6 [8960/50000 (18%)]\tLoss: 0.584175\n",
            "Train Epoch: 6 [10240/50000 (20%)]\tLoss: 0.651305\n",
            "Train Epoch: 6 [11520/50000 (23%)]\tLoss: 0.573688\n",
            "Train Epoch: 6 [12800/50000 (26%)]\tLoss: 0.809650\n",
            "Train Epoch: 6 [14080/50000 (28%)]\tLoss: 0.706098\n",
            "Train Epoch: 6 [15360/50000 (31%)]\tLoss: 0.856012\n",
            "Train Epoch: 6 [16640/50000 (33%)]\tLoss: 0.711689\n",
            "Train Epoch: 6 [17920/50000 (36%)]\tLoss: 0.632646\n",
            "Train Epoch: 6 [19200/50000 (38%)]\tLoss: 0.812625\n",
            "Train Epoch: 6 [20480/50000 (41%)]\tLoss: 0.704468\n",
            "Train Epoch: 6 [21760/50000 (43%)]\tLoss: 0.744770\n",
            "Train Epoch: 6 [23040/50000 (46%)]\tLoss: 0.713565\n",
            "Train Epoch: 6 [24320/50000 (49%)]\tLoss: 0.779540\n",
            "Train Epoch: 6 [25600/50000 (51%)]\tLoss: 0.727465\n",
            "Train Epoch: 6 [26880/50000 (54%)]\tLoss: 0.792432\n",
            "Train Epoch: 6 [28160/50000 (56%)]\tLoss: 0.918020\n",
            "Train Epoch: 6 [29440/50000 (59%)]\tLoss: 0.761990\n",
            "Train Epoch: 6 [30720/50000 (61%)]\tLoss: 0.632797\n",
            "Train Epoch: 6 [32000/50000 (64%)]\tLoss: 0.548936\n",
            "Train Epoch: 6 [33280/50000 (66%)]\tLoss: 0.841981\n",
            "Train Epoch: 6 [34560/50000 (69%)]\tLoss: 0.702188\n",
            "Train Epoch: 6 [35840/50000 (72%)]\tLoss: 0.732619\n",
            "Train Epoch: 6 [37120/50000 (74%)]\tLoss: 0.681298\n",
            "Train Epoch: 6 [38400/50000 (77%)]\tLoss: 0.797072\n",
            "Train Epoch: 6 [39680/50000 (79%)]\tLoss: 0.768449\n",
            "Train Epoch: 6 [40960/50000 (82%)]\tLoss: 0.890180\n",
            "Train Epoch: 6 [42240/50000 (84%)]\tLoss: 0.718005\n",
            "Train Epoch: 6 [43520/50000 (87%)]\tLoss: 0.648491\n",
            "Train Epoch: 6 [44800/50000 (90%)]\tLoss: 0.682187\n",
            "Train Epoch: 6 [46080/50000 (92%)]\tLoss: 0.615314\n",
            "Train Epoch: 6 [47360/50000 (95%)]\tLoss: 0.736382\n",
            "Train Epoch: 6 [48640/50000 (97%)]\tLoss: 0.515079\n",
            "Train Epoch: 6 [31200/50000 (100%)]\tLoss: 0.618976\n",
            "\n",
            "Test set: Average loss: 0.0135, Accuracy: 7160/10000 (72%)\n",
            "\n",
            "Train Epoch: 7 [0/50000 (0%)]\tLoss: 0.634922\n",
            "Train Epoch: 7 [1280/50000 (3%)]\tLoss: 0.567118\n",
            "Train Epoch: 7 [2560/50000 (5%)]\tLoss: 0.734204\n",
            "Train Epoch: 7 [3840/50000 (8%)]\tLoss: 0.670596\n",
            "Train Epoch: 7 [5120/50000 (10%)]\tLoss: 0.634584\n",
            "Train Epoch: 7 [6400/50000 (13%)]\tLoss: 0.581016\n",
            "Train Epoch: 7 [7680/50000 (15%)]\tLoss: 0.576714\n",
            "Train Epoch: 7 [8960/50000 (18%)]\tLoss: 0.706088\n",
            "Train Epoch: 7 [10240/50000 (20%)]\tLoss: 0.606312\n",
            "Train Epoch: 7 [11520/50000 (23%)]\tLoss: 0.510781\n",
            "Train Epoch: 7 [12800/50000 (26%)]\tLoss: 0.779179\n",
            "Train Epoch: 7 [14080/50000 (28%)]\tLoss: 0.606873\n",
            "Train Epoch: 7 [15360/50000 (31%)]\tLoss: 0.695354\n",
            "Train Epoch: 7 [16640/50000 (33%)]\tLoss: 0.531770\n",
            "Train Epoch: 7 [17920/50000 (36%)]\tLoss: 0.663433\n",
            "Train Epoch: 7 [19200/50000 (38%)]\tLoss: 0.790181\n",
            "Train Epoch: 7 [20480/50000 (41%)]\tLoss: 0.731611\n",
            "Train Epoch: 7 [21760/50000 (43%)]\tLoss: 0.728862\n",
            "Train Epoch: 7 [23040/50000 (46%)]\tLoss: 0.836143\n",
            "Train Epoch: 7 [24320/50000 (49%)]\tLoss: 0.866425\n",
            "Train Epoch: 7 [25600/50000 (51%)]\tLoss: 0.626860\n",
            "Train Epoch: 7 [26880/50000 (54%)]\tLoss: 0.645681\n",
            "Train Epoch: 7 [28160/50000 (56%)]\tLoss: 0.668747\n",
            "Train Epoch: 7 [29440/50000 (59%)]\tLoss: 0.763596\n",
            "Train Epoch: 7 [30720/50000 (61%)]\tLoss: 0.716722\n",
            "Train Epoch: 7 [32000/50000 (64%)]\tLoss: 0.673958\n",
            "Train Epoch: 7 [33280/50000 (66%)]\tLoss: 0.801307\n",
            "Train Epoch: 7 [34560/50000 (69%)]\tLoss: 0.652458\n",
            "Train Epoch: 7 [35840/50000 (72%)]\tLoss: 0.770529\n",
            "Train Epoch: 7 [37120/50000 (74%)]\tLoss: 0.668556\n",
            "Train Epoch: 7 [38400/50000 (77%)]\tLoss: 0.631741\n",
            "Train Epoch: 7 [39680/50000 (79%)]\tLoss: 0.668646\n",
            "Train Epoch: 7 [40960/50000 (82%)]\tLoss: 0.649985\n",
            "Train Epoch: 7 [42240/50000 (84%)]\tLoss: 0.580694\n",
            "Train Epoch: 7 [43520/50000 (87%)]\tLoss: 0.726467\n",
            "Train Epoch: 7 [44800/50000 (90%)]\tLoss: 0.576231\n",
            "Train Epoch: 7 [46080/50000 (92%)]\tLoss: 0.737507\n",
            "Train Epoch: 7 [47360/50000 (95%)]\tLoss: 0.653283\n",
            "Train Epoch: 7 [48640/50000 (97%)]\tLoss: 0.716707\n",
            "Train Epoch: 7 [31200/50000 (100%)]\tLoss: 0.803665\n",
            "\n",
            "Test set: Average loss: 0.0141, Accuracy: 7067/10000 (71%)\n",
            "\n",
            "Train Epoch: 8 [0/50000 (0%)]\tLoss: 0.655487\n",
            "Train Epoch: 8 [1280/50000 (3%)]\tLoss: 0.557199\n",
            "Train Epoch: 8 [2560/50000 (5%)]\tLoss: 0.504168\n",
            "Train Epoch: 8 [3840/50000 (8%)]\tLoss: 0.561148\n",
            "Train Epoch: 8 [5120/50000 (10%)]\tLoss: 0.542652\n",
            "Train Epoch: 8 [6400/50000 (13%)]\tLoss: 0.705781\n",
            "Train Epoch: 8 [7680/50000 (15%)]\tLoss: 0.705931\n",
            "Train Epoch: 8 [8960/50000 (18%)]\tLoss: 0.529546\n",
            "Train Epoch: 8 [10240/50000 (20%)]\tLoss: 0.613711\n",
            "Train Epoch: 8 [11520/50000 (23%)]\tLoss: 0.618739\n",
            "Train Epoch: 8 [12800/50000 (26%)]\tLoss: 0.458531\n",
            "Train Epoch: 8 [14080/50000 (28%)]\tLoss: 0.467264\n",
            "Train Epoch: 8 [15360/50000 (31%)]\tLoss: 0.686110\n",
            "Train Epoch: 8 [16640/50000 (33%)]\tLoss: 0.547197\n",
            "Train Epoch: 8 [17920/50000 (36%)]\tLoss: 0.732718\n",
            "Train Epoch: 8 [19200/50000 (38%)]\tLoss: 0.741131\n",
            "Train Epoch: 8 [20480/50000 (41%)]\tLoss: 0.635135\n",
            "Train Epoch: 8 [21760/50000 (43%)]\tLoss: 0.513554\n",
            "Train Epoch: 8 [23040/50000 (46%)]\tLoss: 0.694964\n",
            "Train Epoch: 8 [24320/50000 (49%)]\tLoss: 0.627159\n",
            "Train Epoch: 8 [25600/50000 (51%)]\tLoss: 0.614293\n",
            "Train Epoch: 8 [26880/50000 (54%)]\tLoss: 0.487024\n",
            "Train Epoch: 8 [28160/50000 (56%)]\tLoss: 0.490947\n",
            "Train Epoch: 8 [29440/50000 (59%)]\tLoss: 0.622909\n",
            "Train Epoch: 8 [30720/50000 (61%)]\tLoss: 0.606513\n",
            "Train Epoch: 8 [32000/50000 (64%)]\tLoss: 0.567525\n",
            "Train Epoch: 8 [33280/50000 (66%)]\tLoss: 0.706209\n",
            "Train Epoch: 8 [34560/50000 (69%)]\tLoss: 0.812426\n",
            "Train Epoch: 8 [35840/50000 (72%)]\tLoss: 0.736562\n",
            "Train Epoch: 8 [37120/50000 (74%)]\tLoss: 0.579872\n",
            "Train Epoch: 8 [38400/50000 (77%)]\tLoss: 0.670226\n",
            "Train Epoch: 8 [39680/50000 (79%)]\tLoss: 0.606412\n",
            "Train Epoch: 8 [40960/50000 (82%)]\tLoss: 0.736225\n",
            "Train Epoch: 8 [42240/50000 (84%)]\tLoss: 0.763724\n",
            "Train Epoch: 8 [43520/50000 (87%)]\tLoss: 0.771314\n",
            "Train Epoch: 8 [44800/50000 (90%)]\tLoss: 0.714661\n",
            "Train Epoch: 8 [46080/50000 (92%)]\tLoss: 0.887092\n",
            "Train Epoch: 8 [47360/50000 (95%)]\tLoss: 0.617342\n",
            "Train Epoch: 8 [48640/50000 (97%)]\tLoss: 0.770264\n",
            "Train Epoch: 8 [31200/50000 (100%)]\tLoss: 0.567749\n",
            "\n",
            "Test set: Average loss: 0.0137, Accuracy: 7106/10000 (71%)\n",
            "\n",
            "Train Epoch: 9 [0/50000 (0%)]\tLoss: 0.635470\n",
            "Train Epoch: 9 [1280/50000 (3%)]\tLoss: 0.524472\n",
            "Train Epoch: 9 [2560/50000 (5%)]\tLoss: 0.544087\n",
            "Train Epoch: 9 [3840/50000 (8%)]\tLoss: 0.606870\n",
            "Train Epoch: 9 [5120/50000 (10%)]\tLoss: 0.674724\n",
            "Train Epoch: 9 [6400/50000 (13%)]\tLoss: 0.563193\n",
            "Train Epoch: 9 [7680/50000 (15%)]\tLoss: 0.625695\n",
            "Train Epoch: 9 [8960/50000 (18%)]\tLoss: 0.536537\n",
            "Train Epoch: 9 [10240/50000 (20%)]\tLoss: 0.408657\n",
            "Train Epoch: 9 [11520/50000 (23%)]\tLoss: 0.582930\n",
            "Train Epoch: 9 [12800/50000 (26%)]\tLoss: 0.542395\n",
            "Train Epoch: 9 [14080/50000 (28%)]\tLoss: 0.464920\n",
            "Train Epoch: 9 [15360/50000 (31%)]\tLoss: 0.589523\n",
            "Train Epoch: 9 [16640/50000 (33%)]\tLoss: 0.786083\n",
            "Train Epoch: 9 [17920/50000 (36%)]\tLoss: 0.518091\n",
            "Train Epoch: 9 [19200/50000 (38%)]\tLoss: 0.979116\n",
            "Train Epoch: 9 [20480/50000 (41%)]\tLoss: 0.579685\n",
            "Train Epoch: 9 [21760/50000 (43%)]\tLoss: 0.618039\n",
            "Train Epoch: 9 [23040/50000 (46%)]\tLoss: 0.645430\n",
            "Train Epoch: 9 [24320/50000 (49%)]\tLoss: 0.477084\n",
            "Train Epoch: 9 [25600/50000 (51%)]\tLoss: 0.512784\n",
            "Train Epoch: 9 [26880/50000 (54%)]\tLoss: 0.559088\n",
            "Train Epoch: 9 [28160/50000 (56%)]\tLoss: 0.450653\n",
            "Train Epoch: 9 [29440/50000 (59%)]\tLoss: 0.768714\n",
            "Train Epoch: 9 [30720/50000 (61%)]\tLoss: 0.686100\n",
            "Train Epoch: 9 [32000/50000 (64%)]\tLoss: 0.513303\n",
            "Train Epoch: 9 [33280/50000 (66%)]\tLoss: 0.581905\n",
            "Train Epoch: 9 [34560/50000 (69%)]\tLoss: 0.461789\n",
            "Train Epoch: 9 [35840/50000 (72%)]\tLoss: 0.735727\n",
            "Train Epoch: 9 [37120/50000 (74%)]\tLoss: 0.838108\n",
            "Train Epoch: 9 [38400/50000 (77%)]\tLoss: 0.675128\n",
            "Train Epoch: 9 [39680/50000 (79%)]\tLoss: 0.582501\n",
            "Train Epoch: 9 [40960/50000 (82%)]\tLoss: 0.597400\n",
            "Train Epoch: 9 [42240/50000 (84%)]\tLoss: 0.566563\n",
            "Train Epoch: 9 [43520/50000 (87%)]\tLoss: 0.626320\n",
            "Train Epoch: 9 [44800/50000 (90%)]\tLoss: 0.660885\n",
            "Train Epoch: 9 [46080/50000 (92%)]\tLoss: 0.753370\n",
            "Train Epoch: 9 [47360/50000 (95%)]\tLoss: 0.603567\n",
            "Train Epoch: 9 [48640/50000 (97%)]\tLoss: 0.662856\n",
            "Train Epoch: 9 [31200/50000 (100%)]\tLoss: 0.495880\n",
            "\n",
            "Test set: Average loss: 0.0143, Accuracy: 7073/10000 (71%)\n",
            "\n"
          ],
          "name": "stdout"
        }
      ]
    }
  ]
}