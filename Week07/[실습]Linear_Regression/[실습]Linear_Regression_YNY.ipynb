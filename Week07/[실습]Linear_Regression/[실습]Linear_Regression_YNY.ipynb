{
  "nbformat": 4,
  "nbformat_minor": 0,
  "metadata": {
    "colab": {
      "name": "2021 겨울방학 실습_1 (Main_Linear).ipynb",
      "provenance": [],
      "collapsed_sections": [],
      "toc_visible": true
    },
    "kernelspec": {
      "name": "python3",
      "display_name": "Python 3"
    },
    "accelerator": "GPU"
  },
  "cells": [
    {
      "cell_type": "markdown",
      "metadata": {
        "id": "UZhOE8sqJFeY"
      },
      "source": [
        "### **0. 실습 1: Linear Regression model 만들기**\r\n",
        "[관련 링크](https://github.com/Artinto/Python_and_AI_Study/tree/main/Week7/%5B%EC%8B%A4%EC%8A%B5%5DLinear_Regression)"
      ]
    },
    {
      "cell_type": "markdown",
      "metadata": {
        "id": "9xi2P1X9B_Pi"
      },
      "source": [
        "### **1. 필요한 모듈 선언하기**"
      ]
    },
    {
      "cell_type": "code",
      "metadata": {
        "id": "kog5v-Zi_1xS"
      },
      "source": [
        "import torch\r\n",
        "import torch.nn as nn\r\n",
        "import torch.nn.functional as F\r\n",
        "import torch.optim as optim\r\n",
        "import numpy as np"
      ],
      "execution_count": null,
      "outputs": []
    },
    {
      "cell_type": "markdown",
      "metadata": {
        "id": "s_tt_0teBk-T"
      },
      "source": [
        "### **2. Device 선언 및 랜덤 시드 고정**"
      ]
    },
    {
      "cell_type": "markdown",
      "metadata": {
        "id": "HVdU70LGM1w1"
      },
      "source": [
        "2-1) device 선언"
      ]
    },
    {
      "cell_type": "code",
      "metadata": {
        "id": "gjHyEi0ZM2e5"
      },
      "source": [
        "device='cuda' if torch.cuda.is_available() else 'cpu'\n",
        "print(device)"
      ],
      "execution_count": null,
      "outputs": []
    },
    {
      "cell_type": "markdown",
      "metadata": {
        "id": "f4J3a90TM2_A"
      },
      "source": [
        "2-2) 랜덤 시드 고정"
      ]
    },
    {
      "cell_type": "code",
      "metadata": {
        "id": "ZLqVsa6PCI8M",
        "colab": {
          "base_uri": "https://localhost:8080/"
        },
        "outputId": "6892861e-0822-44e1-867f-9438f2facc24"
      },
      "source": [
        "torch.manual_seed(777)\r\n",
        "if device=='cuda':\r\n",
        "  torch.cuda.manual_seed_all(777)\r\n",
        "np.random.seed(777)"
      ],
      "execution_count": null,
      "outputs": [
        {
          "output_type": "stream",
          "text": [
            "cuda\n"
          ],
          "name": "stdout"
        }
      ]
    },
    {
      "cell_type": "markdown",
      "metadata": {
        "id": "ewWSIvHACVkI"
      },
      "source": [
        "### **3. 데이터셋 불러오기**"
      ]
    },
    {
      "cell_type": "code",
      "metadata": {
        "id": "j8JzkmMxCcBN"
      },
      "source": [
        "dataset = np.loadtxt('/content/drive/MyDrive/dataset/data-01-test-score.csv', delimiter=',', dtype=np.float32) \r\n",
        "np.random.shuffle(dataset)"
      ],
      "execution_count": null,
      "outputs": []
    },
    {
      "cell_type": "markdown",
      "metadata": {
        "id": "xob45r2XC7Xz"
      },
      "source": [
        "3-1) x, y 데이터 분류하기"
      ]
    },
    {
      "cell_type": "code",
      "metadata": {
        "colab": {
          "base_uri": "https://localhost:8080/"
        },
        "id": "ClNSA9EREfku",
        "outputId": "2e035772-e1b2-4165-e27d-6ff80ca45473"
      },
      "source": [
        "x_data = dataset[:,:-1]\r\n",
        "y_data = dataset[:,[-1]]\r\n",
        "print(x_data.shape)\r\n",
        "print(y_data.shape)"
      ],
      "execution_count": null,
      "outputs": [
        {
          "output_type": "stream",
          "text": [
            "(25, 3)\n",
            "(25, 1)\n"
          ],
          "name": "stdout"
        }
      ]
    },
    {
      "cell_type": "markdown",
      "metadata": {
        "id": "Odfm0Z1UF6Qq"
      },
      "source": [
        "3-2) ndarray to tensor"
      ]
    },
    {
      "cell_type": "code",
      "metadata": {
        "colab": {
          "base_uri": "https://localhost:8080/"
        },
        "id": "uSG2dBehGKhS",
        "outputId": "af734fad-26be-47f2-a310-ab9afdb9f446"
      },
      "source": [
        "x_data = torch.FloatTensor(x_data)\r\n",
        "y_data = torch.FloatTensor(y_data)\r\n",
        "\r\n",
        "print(x_data.shape)\r\n",
        "print(y_data.shape)"
      ],
      "execution_count": null,
      "outputs": [
        {
          "output_type": "stream",
          "text": [
            "torch.Size([25, 3])\n",
            "torch.Size([25, 1])\n"
          ],
          "name": "stdout"
        }
      ]
    },
    {
      "cell_type": "markdown",
      "metadata": {
        "id": "cxB8BMaWFt_6"
      },
      "source": [
        "### **4. 모델 선언**"
      ]
    },
    {
      "cell_type": "markdown",
      "metadata": {
        "id": "MDBwpNqwGdnb"
      },
      "source": [
        "4-1) Linear model 선언"
      ]
    },
    {
      "cell_type": "code",
      "metadata": {
        "id": "-iBRGk9RGdYq"
      },
      "source": [
        "model = nn.Linear(3,1,bias=True)\n",
        "model = model.to(device)"
      ],
      "execution_count": null,
      "outputs": []
    },
    {
      "cell_type": "markdown",
      "metadata": {
        "id": "Pxm0VBPtG0cS"
      },
      "source": [
        "### **5. 학습 시작**"
      ]
    },
    {
      "cell_type": "markdown",
      "metadata": {
        "id": "T5RYbsJkLhT6"
      },
      "source": [
        "5-1) optimizer, cost 선언\r\n"
      ]
    },
    {
      "cell_type": "code",
      "metadata": {
        "id": "e5C4DNlQHBZD"
      },
      "source": [
        "lr=1e-5\r\n",
        "optimizer = optim.SGD(model.parameters(), lr=lr)\r\n",
        "\r\n",
        "criterion = nn.MSELoss()"
      ],
      "execution_count": null,
      "outputs": []
    },
    {
      "cell_type": "markdown",
      "metadata": {
        "id": "uX6lgLDeHTj2"
      },
      "source": [
        "5-2) 학습"
      ]
    },
    {
      "cell_type": "code",
      "metadata": {
        "id": "RY4FzhXCHS9n"
      },
      "source": [
        "nb_epochs = 1000"
      ],
      "execution_count": null,
      "outputs": []
    },
    {
      "cell_type": "code",
      "metadata": {
        "colab": {
          "base_uri": "https://localhost:8080/"
        },
        "id": "F5LtJMsSHus_",
        "outputId": "a7b16b91-e8b2-44f8-be12-9bc9d61df419"
      },
      "source": [
        "print('*************** TRAIN ************** \\n')\r\n",
        "\r\n",
        "for epoch in range(nb_epochs+1):\r\n",
        "  x_data = x_data.to(device)\r\n",
        "  y_data = y_data.to(device)\r\n",
        "\r\n",
        "  prediction = model(x_data)\r\n",
        "  cost = criterion(prediction, y_data)\r\n",
        "\r\n",
        "  optimizer.zero_grad()\r\n",
        "  cost.backward()\r\n",
        "  optimizer.step()\r\n",
        "\r\n",
        "  if epoch%100 == 0:\r\n",
        "    print('Epoch: {:5d}/{} \\t Cost: {:.6f}\\n'.format(epoch, nb_epochs,cost.item()))"
      ],
      "execution_count": null,
      "outputs": [
        {
          "output_type": "stream",
          "text": [
            "*************** TRAIN ************** \n",
            "\n",
            "Epoch:     0/1000 \t Cost: 24342.439453\n",
            "\n",
            "Epoch:   100/1000 \t Cost: 23.067713\n",
            "\n",
            "Epoch:   200/1000 \t Cost: 21.660244\n",
            "\n",
            "Epoch:   300/1000 \t Cost: 20.370621\n",
            "\n",
            "Epoch:   400/1000 \t Cost: 19.188932\n",
            "\n",
            "Epoch:   500/1000 \t Cost: 18.106039\n",
            "\n",
            "Epoch:   600/1000 \t Cost: 17.113638\n",
            "\n",
            "Epoch:   700/1000 \t Cost: 16.204144\n",
            "\n",
            "Epoch:   800/1000 \t Cost: 15.370523\n",
            "\n",
            "Epoch:   900/1000 \t Cost: 14.606442\n",
            "\n",
            "Epoch:  1000/1000 \t Cost: 13.906001\n",
            "\n"
          ],
          "name": "stdout"
        }
      ]
    }
  ]
}