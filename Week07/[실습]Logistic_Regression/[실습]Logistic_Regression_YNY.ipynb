{
  "nbformat": 4,
  "nbformat_minor": 0,
  "metadata": {
    "colab": {
      "name": "2021 겨울방학 실습_1 (Sub_Logistic).ipynb",
      "provenance": []
    },
    "kernelspec": {
      "name": "python3",
      "display_name": "Python 3"
    }
  },
  "cells": [
    {
      "cell_type": "markdown",
      "metadata": {
        "id": "AvyEiJwWJxxz"
      },
      "source": [
        "### **0. 실습 1: Logistic Regression model 만들기**\r\n",
        "[관련 링크](https://github.com/Artinto/Python_and_AI_Study/tree/main/Week7/%5B%EC%8B%A4%EC%8A%B5%5DLogistic_Regression)\r\n",
        "\r\n",
        "\r\n"
      ]
    },
    {
      "cell_type": "markdown",
      "metadata": {
        "id": "VhNOo9KYJwSg"
      },
      "source": [
        "### **1. 필요한 모듈 선언하기**"
      ]
    },
    {
      "cell_type": "code",
      "metadata": {
        "id": "AP0-SFdXJ6qy"
      },
      "source": [
        "import torch\r\n",
        "import torch.nn as nn\r\n",
        "import torch.nn.functional as F\r\n",
        "import torch.optim as optim\r\n",
        "import numpy as np"
      ],
      "execution_count": null,
      "outputs": []
    },
    {
      "cell_type": "markdown",
      "metadata": {
        "id": "T5pNjDKNKI3I"
      },
      "source": [
        "### **2. Device 선언 및 랜덤 시드 고정**"
      ]
    },
    {
      "cell_type": "markdown",
      "metadata": {
        "id": "jCPRAM9kMkuA"
      },
      "source": [
        "2-1) device 선언"
      ]
    },
    {
      "cell_type": "code",
      "metadata": {
        "id": "_Lp4VL6FKLbt",
        "colab": {
          "base_uri": "https://localhost:8080/"
        },
        "outputId": "3c9c64b5-82cf-4678-e779-1b131435d85f"
      },
      "source": [
        "device='cuda' if torch.cuda.is_available() else 'cpu'\r\n",
        "print(device)"
      ],
      "execution_count": null,
      "outputs": [
        {
          "output_type": "stream",
          "text": [
            "cpu\n"
          ],
          "name": "stdout"
        }
      ]
    },
    {
      "cell_type": "markdown",
      "metadata": {
        "id": "wU0wF1RgMqH5"
      },
      "source": [
        "2-2) 랜덤 시드 고정"
      ]
    },
    {
      "cell_type": "code",
      "metadata": {
        "id": "BHGKjkrKF1PM"
      },
      "source": [
        "torch.manual_seed(777)\n",
        "if device=='cuda':\n",
        "  torch.cuda.manual_seed_all(777)\n",
        "np.random.seed(777)"
      ],
      "execution_count": null,
      "outputs": []
    },
    {
      "cell_type": "markdown",
      "metadata": {
        "id": "0kB2RfGVKNyC"
      },
      "source": [
        "### **3. 데이터셋 불러오기**"
      ]
    },
    {
      "cell_type": "code",
      "metadata": {
        "id": "LW35kSqfKRBo"
      },
      "source": [
        "dataset = np.loadtxt('/content/drive/MyDrive/dataset/diabetes.csv', delimiter=',', dtype=np.float32) \r\n",
        "np.random.shuffle(dataset)"
      ],
      "execution_count": null,
      "outputs": []
    },
    {
      "cell_type": "markdown",
      "metadata": {
        "id": "1-wA_x7VMY1c"
      },
      "source": [
        "3-1) 데이터 분류하기"
      ]
    },
    {
      "cell_type": "code",
      "metadata": {
        "id": "kV0I24sLMhiu"
      },
      "source": [
        "x_train = dataset[:650,:-1]   # train set : 650 개\r\n",
        "y_train = dataset[:650,[-1]]\r\n",
        "\r\n",
        "x_test = dataset[650:,:-1]    # test set: 109 개\r\n",
        "y_test = dataset[650:,[-1]]\r\n"
      ],
      "execution_count": null,
      "outputs": []
    },
    {
      "cell_type": "markdown",
      "metadata": {
        "id": "un7vxMX_RZhn"
      },
      "source": [
        "3-2) ndarray to tensor"
      ]
    },
    {
      "cell_type": "code",
      "metadata": {
        "id": "7LhEPylvRcO1"
      },
      "source": [
        "x_train = torch.FloatTensor(x_train)\r\n",
        "y_train = torch.FloatTensor(y_train)\r\n",
        "\r\n",
        "x_test = torch.FloatTensor(x_test)\r\n",
        "y_test = torch.FloatTensor(y_test)"
      ],
      "execution_count": null,
      "outputs": []
    },
    {
      "cell_type": "markdown",
      "metadata": {
        "id": "CCOKrCW5RrFX"
      },
      "source": [
        "### **4. 모델 선언**"
      ]
    },
    {
      "cell_type": "markdown",
      "metadata": {
        "id": "cYibzHDnRuPP"
      },
      "source": [
        "4-1) Model 선언"
      ]
    },
    {
      "cell_type": "code",
      "metadata": {
        "id": "wFPlIEumRtq_"
      },
      "source": [
        "class BinaryClassifier(nn.Module):\n",
        "    def __init__(self):\n",
        "        super().__init__()\n",
        "        self.linear = nn.Linear(8, 1)\n",
        "        self.sigmoid = nn.Sigmoid()\n",
        "\n",
        "    def forward(self, x):\n",
        "        return self.sigmoid(self.linear(x))"
      ],
      "execution_count": null,
      "outputs": []
    },
    {
      "cell_type": "code",
      "metadata": {
        "id": "-UzacYEhS-Sn"
      },
      "source": [
        "model = BinaryClassifier()\n",
        "model = model.to(device)"
      ],
      "execution_count": null,
      "outputs": []
    },
    {
      "cell_type": "markdown",
      "metadata": {
        "id": "xKeCKcaaS-vX"
      },
      "source": [
        "### **5. 학습 시작**"
      ]
    },
    {
      "cell_type": "markdown",
      "metadata": {
        "id": "xzbQ-SsiTBLc"
      },
      "source": [
        "5-1) optimizer 선언"
      ]
    },
    {
      "cell_type": "code",
      "metadata": {
        "id": "D2DDwYRPTDNf"
      },
      "source": [
        "lr=1\r\n",
        "optimizer = optim.SGD(model.parameters(), lr=lr)"
      ],
      "execution_count": null,
      "outputs": []
    },
    {
      "cell_type": "markdown",
      "metadata": {
        "id": "aT1c-dLeTLlw"
      },
      "source": [
        "5-2) 학습"
      ]
    },
    {
      "cell_type": "code",
      "metadata": {
        "id": "NmhcWAwgTNdt"
      },
      "source": [
        "nb_epochs = 1000"
      ],
      "execution_count": null,
      "outputs": []
    },
    {
      "cell_type": "code",
      "metadata": {
        "colab": {
          "base_uri": "https://localhost:8080/"
        },
        "id": "amCC1mgSTOp9",
        "outputId": "0cc97a44-cd92-4873-e626-d67b3fb72643"
      },
      "source": [
        "print('************** TRAIN ************** \\n')\r\n",
        "\r\n",
        "for epoch in range(nb_epochs+1):\r\n",
        "  x_train = x_train.to(device)\r\n",
        "  y_train = y_train.to(device)\r\n",
        "  hypothesis = model(x_train)\r\n",
        "  cost = F.binary_cross_entropy(hypothesis, y_train)\r\n",
        "\r\n",
        "  optimizer.zero_grad()\r\n",
        "  cost.backward()\r\n",
        "  optimizer.step()\r\n",
        "\r\n",
        "  if epoch%100 == 0:\r\n",
        "\r\n",
        "    print('Epoch: {:5d}/{} \\t Cost: {:.6f} \\t'.format(epoch, nb_epochs,cost.item()))"
      ],
      "execution_count": null,
      "outputs": [
        {
          "output_type": "stream",
          "text": [
            "************** TRAIN ************** \n",
            "\n",
            "Epoch:     0/1000 \t Cost: 0.679650 \t\n",
            "Epoch:   100/1000 \t Cost: 0.476757 \t\n",
            "Epoch:   200/1000 \t Cost: 0.468684 \t\n",
            "Epoch:   300/1000 \t Cost: 0.466631 \t\n",
            "Epoch:   400/1000 \t Cost: 0.465789 \t\n",
            "Epoch:   500/1000 \t Cost: 0.465393 \t\n",
            "Epoch:   600/1000 \t Cost: 0.465199 \t\n",
            "Epoch:   700/1000 \t Cost: 0.465102 \t\n",
            "Epoch:   800/1000 \t Cost: 0.465053 \t\n",
            "Epoch:   900/1000 \t Cost: 0.465028 \t\n",
            "Epoch:  1000/1000 \t Cost: 0.465016 \t\n"
          ],
          "name": "stdout"
        }
      ]
    },
    {
      "cell_type": "markdown",
      "metadata": {
        "id": "Tyx9U8e5vJAQ"
      },
      "source": [
        "### **6. Test**"
      ]
    },
    {
      "cell_type": "code",
      "metadata": {
        "colab": {
          "base_uri": "https://localhost:8080/"
        },
        "id": "oUXDfNcVaVU4",
        "outputId": "01b37c0a-7bcc-46a6-b904-07d57bb082c6"
      },
      "source": [
        "with torch.no_grad():\r\n",
        "  x_test = x_test.to(device)\r\n",
        "  y_test = y_test.to(device)\r\n",
        "  prediction = model(x_test)\r\n",
        "  prediction = prediction >= torch.FloatTensor([0.5])\r\n",
        "  correct_prediction = prediction.float() == y_test\r\n",
        "  accuracy = correct_prediction.sum().item() / len(correct_prediction)\r\n",
        "  print('Test Accuracy: {:2.2f}%'.format(accuracy*100))"
      ],
      "execution_count": null,
      "outputs": [
        {
          "output_type": "stream",
          "text": [
            "Test Accuracy: 74.31%\n"
          ],
          "name": "stdout"
        }
      ]
    }
  ]
}