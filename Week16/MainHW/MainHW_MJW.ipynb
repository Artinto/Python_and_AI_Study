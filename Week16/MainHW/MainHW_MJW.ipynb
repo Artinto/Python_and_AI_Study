{
  "nbformat": 4,
  "nbformat_minor": 0,
  "metadata": {
    "colab": {
      "name": "Untitled1.ipynb",
      "provenance": [],
      "collapsed_sections": []
    },
    "kernelspec": {
      "name": "python3",
      "display_name": "Python 3"
    },
    "accelerator": "GPU"
  },
  "cells": [
    {
      "cell_type": "markdown",
      "metadata": {
        "id": "d0FLdWKuSl6J"
      },
      "source": [
        "## **1. 필요한 모듈 선언**\n",
        "---"
      ]
    },
    {
      "cell_type": "code",
      "metadata": {
        "id": "7RjaMJ5q43Ax"
      },
      "source": [
        "import torch\n",
        "from torch import nn, optim, cuda\n",
        "from torch.utils.data import DataLoader, Dataset\n",
        "import torch.nn.functional as F\n",
        "import numpy as np\n",
        "import pandas as pd\n",
        "from sklearn.preprocessing import StandardScaler, MinMaxScaler, MaxAbsScaler, RobustScaler"
      ],
      "execution_count": null,
      "outputs": []
    },
    {
      "cell_type": "markdown",
      "metadata": {
        "id": "o9-FuoWTSqXX"
      },
      "source": [
        "## **2. Device 및 Seed 설정**\n",
        "---"
      ]
    },
    {
      "cell_type": "code",
      "metadata": {
        "colab": {
          "base_uri": "https://localhost:8080/"
        },
        "id": "q6KVfNQw7X4b",
        "outputId": "29543761-038e-4384-f61b-70dc15f5d34e"
      },
      "source": [
        "device = 'cuda' if cuda.is_available() else 'cpu'\n",
        "print(device)"
      ],
      "execution_count": null,
      "outputs": [
        {
          "output_type": "stream",
          "text": [
            "cuda\n"
          ],
          "name": "stdout"
        }
      ]
    },
    {
      "cell_type": "code",
      "metadata": {
        "id": "Yj0S03mVSqEe"
      },
      "source": [
        "np.random.seed(42)\n",
        "torch.manual_seed(42)\n",
        "if device == 'cuda':\n",
        "    cuda.manual_seed_all(42)"
      ],
      "execution_count": null,
      "outputs": []
    },
    {
      "cell_type": "markdown",
      "metadata": {
        "id": "RbgNlOHXS1rn"
      },
      "source": [
        "## **3. 데이터셋 로드 & 전처리**\n",
        "---\n",
        "\n"
      ]
    },
    {
      "cell_type": "code",
      "metadata": {
        "id": "HGFARGXCNKwu"
      },
      "source": [
        "class stock_dataset(Dataset):\n",
        "    def __init__(self, dataset, scaler, seq_length):\n",
        "        self.dataset = scaler.transform(dataset)\n",
        "        self.seq_length = seq_length\n",
        " \n",
        "    def __len__(self):\n",
        "        return len(self.dataset) - self.seq_length\n",
        "    \n",
        "    def __getitem__(self, idx):\n",
        "        x = self.dataset[idx:idx+self.seq_length, :]\n",
        "        x = torch.FloatTensor(x)\n",
        "        y = self.dataset[idx+self.seq_length, [-1]]\n",
        "        y = torch.FloatTensor(y)\n",
        "        return x, y"
      ],
      "execution_count": null,
      "outputs": []
    },
    {
      "cell_type": "code",
      "metadata": {
        "id": "66IE8PPRStiO"
      },
      "source": [
        "dataset_path = '/content/stock_daily.csv'\n",
        "dataset = pd.read_csv(dataset_path, sep=',', skiprows=[0])\n",
        "dataset = dataset[::-1]"
      ],
      "execution_count": null,
      "outputs": []
    },
    {
      "cell_type": "code",
      "metadata": {
        "colab": {
          "base_uri": "https://localhost:8080/",
          "height": 410
        },
        "id": "fCtyYflvPpa3",
        "outputId": "adcea77d-90c4-49ee-853a-bf9c7554a3ad"
      },
      "source": [
        "dataset"
      ],
      "execution_count": null,
      "outputs": [
        {
          "output_type": "execute_result",
          "data": {
            "text/html": [
              "<div>\n",
              "<style scoped>\n",
              "    .dataframe tbody tr th:only-of-type {\n",
              "        vertical-align: middle;\n",
              "    }\n",
              "\n",
              "    .dataframe tbody tr th {\n",
              "        vertical-align: top;\n",
              "    }\n",
              "\n",
              "    .dataframe thead th {\n",
              "        text-align: right;\n",
              "    }\n",
              "</style>\n",
              "<table border=\"1\" class=\"dataframe\">\n",
              "  <thead>\n",
              "    <tr style=\"text-align: right;\">\n",
              "      <th></th>\n",
              "      <th># Open</th>\n",
              "      <th>High</th>\n",
              "      <th>Low</th>\n",
              "      <th>Volume</th>\n",
              "      <th>Close</th>\n",
              "    </tr>\n",
              "  </thead>\n",
              "  <tbody>\n",
              "    <tr>\n",
              "      <th>731</th>\n",
              "      <td>568.002570</td>\n",
              "      <td>568.002570</td>\n",
              "      <td>552.922516</td>\n",
              "      <td>13100</td>\n",
              "      <td>558.462551</td>\n",
              "    </tr>\n",
              "    <tr>\n",
              "      <th>730</th>\n",
              "      <td>561.202549</td>\n",
              "      <td>566.432590</td>\n",
              "      <td>558.672539</td>\n",
              "      <td>41200</td>\n",
              "      <td>559.992565</td>\n",
              "    </tr>\n",
              "    <tr>\n",
              "      <th>729</th>\n",
              "      <td>566.892592</td>\n",
              "      <td>567.002574</td>\n",
              "      <td>556.932537</td>\n",
              "      <td>10800</td>\n",
              "      <td>556.972503</td>\n",
              "    </tr>\n",
              "    <tr>\n",
              "      <th>728</th>\n",
              "      <td>558.712504</td>\n",
              "      <td>568.452595</td>\n",
              "      <td>558.712504</td>\n",
              "      <td>7900</td>\n",
              "      <td>567.162558</td>\n",
              "    </tr>\n",
              "    <tr>\n",
              "      <th>727</th>\n",
              "      <td>599.992707</td>\n",
              "      <td>604.832763</td>\n",
              "      <td>562.192568</td>\n",
              "      <td>147100</td>\n",
              "      <td>567.002574</td>\n",
              "    </tr>\n",
              "    <tr>\n",
              "      <th>...</th>\n",
              "      <td>...</td>\n",
              "      <td>...</td>\n",
              "      <td>...</td>\n",
              "      <td>...</td>\n",
              "      <td>...</td>\n",
              "    </tr>\n",
              "    <tr>\n",
              "      <th>4</th>\n",
              "      <td>819.000000</td>\n",
              "      <td>823.000000</td>\n",
              "      <td>816.000000</td>\n",
              "      <td>1053600</td>\n",
              "      <td>820.450012</td>\n",
              "    </tr>\n",
              "    <tr>\n",
              "      <th>3</th>\n",
              "      <td>819.359985</td>\n",
              "      <td>823.000000</td>\n",
              "      <td>818.469971</td>\n",
              "      <td>1304000</td>\n",
              "      <td>818.979980</td>\n",
              "    </tr>\n",
              "    <tr>\n",
              "      <th>2</th>\n",
              "      <td>819.929993</td>\n",
              "      <td>824.400024</td>\n",
              "      <td>818.979980</td>\n",
              "      <td>1281700</td>\n",
              "      <td>824.159973</td>\n",
              "    </tr>\n",
              "    <tr>\n",
              "      <th>1</th>\n",
              "      <td>823.020020</td>\n",
              "      <td>828.070007</td>\n",
              "      <td>821.655029</td>\n",
              "      <td>1597800</td>\n",
              "      <td>828.070007</td>\n",
              "    </tr>\n",
              "    <tr>\n",
              "      <th>0</th>\n",
              "      <td>828.659973</td>\n",
              "      <td>833.450012</td>\n",
              "      <td>828.349976</td>\n",
              "      <td>1247700</td>\n",
              "      <td>831.659973</td>\n",
              "    </tr>\n",
              "  </tbody>\n",
              "</table>\n",
              "<p>732 rows × 5 columns</p>\n",
              "</div>"
            ],
            "text/plain": [
              "         # Open        High         Low   Volume       Close\n",
              "731  568.002570  568.002570  552.922516    13100  558.462551\n",
              "730  561.202549  566.432590  558.672539    41200  559.992565\n",
              "729  566.892592  567.002574  556.932537    10800  556.972503\n",
              "728  558.712504  568.452595  558.712504     7900  567.162558\n",
              "727  599.992707  604.832763  562.192568   147100  567.002574\n",
              "..          ...         ...         ...      ...         ...\n",
              "4    819.000000  823.000000  816.000000  1053600  820.450012\n",
              "3    819.359985  823.000000  818.469971  1304000  818.979980\n",
              "2    819.929993  824.400024  818.979980  1281700  824.159973\n",
              "1    823.020020  828.070007  821.655029  1597800  828.070007\n",
              "0    828.659973  833.450012  828.349976  1247700  831.659973\n",
              "\n",
              "[732 rows x 5 columns]"
            ]
          },
          "metadata": {
            "tags": []
          },
          "execution_count": 23
        }
      ]
    },
    {
      "cell_type": "code",
      "metadata": {
        "colab": {
          "base_uri": "https://localhost:8080/"
        },
        "id": "3HJZDyyVPoRS",
        "outputId": "8f629550-f833-4f56-fd31-78e59feacf8c"
      },
      "source": [
        "\"\"\" train과 test로 데이터 분리 \"\"\"\n",
        "len_data = dataset.shape[0]\n",
        "train_data = dataset.iloc[:int(len_data*0.7), :]\n",
        "test_data  = dataset.iloc[int(len_data*0.7):, :]\n",
        " \n",
        "print('train_data :', train_data.shape)\n",
        "print('test_data  :', test_data.shape)"
      ],
      "execution_count": null,
      "outputs": [
        {
          "output_type": "stream",
          "text": [
            "train_data : (512, 5)\n",
            "test_data  : (220, 5)\n"
          ],
          "name": "stdout"
        }
      ]
    },
    {
      "cell_type": "code",
      "metadata": {
        "colab": {
          "base_uri": "https://localhost:8080/"
        },
        "id": "8ynZiq72Pjbu",
        "outputId": "11c691b0-44fa-4fda-c1fd-990c14504022"
      },
      "source": [
        "\"\"\"데이터 정규화\"\"\"\n",
        "# scaler = StandardScaler()   # 기본 스케일. 평균과 표준편차 사용\n",
        "scaler = MinMaxScaler()     # 최대/최소값이 각각 1, 0이 되도록 스케일링\n",
        "# scaler = MaxAbsScaler()     # 최대절대값과 0이 각각 1, 0이 되도록 스케일링\n",
        "# scaler = RobustScaler()     # 중앙값(median)과 IQR(interquartile range) 사용. 아웃라이어의 영향을 최소화\n",
        " \n",
        "scaler.fit(train_data)\n",
        "print(scaler)"
      ],
      "execution_count": null,
      "outputs": [
        {
          "output_type": "stream",
          "text": [
            "MinMaxScaler(copy=True, feature_range=(0, 1))\n"
          ],
          "name": "stdout"
        }
      ]
    },
    {
      "cell_type": "code",
      "metadata": {
        "id": "0Hw5knYZPlP3"
      },
      "source": [
        "N = 7\n",
        "batch_size = 128\n",
        " \n",
        "train_dataset = stock_dataset(dataset=train_data, scaler=scaler, seq_length=N)\n",
        "train_loader = DataLoader(dataset=train_dataset,\n",
        "                          batch_size=batch_size)\n",
        " \n",
        "test_dataset = stock_dataset(dataset=test_data , scaler=scaler, seq_length=N)\n",
        "test_loader = DataLoader(dataset=test_dataset,\n",
        "                         batch_size=len(test_dataset))"
      ],
      "execution_count": null,
      "outputs": []
    },
    {
      "cell_type": "markdown",
      "metadata": {
        "id": "5PTm1NmAToke"
      },
      "source": [
        "## **4. 모델 선언**\n",
        "---\n",
        "\n"
      ]
    },
    {
      "cell_type": "code",
      "metadata": {
        "id": "Wwf0H2TfhiO_"
      },
      "source": [
        "\"\"\"hyper parameters\"\"\"\n",
        "input_size = 5\n",
        "hidden_size = 10\n",
        "num_layers = 2\n",
        "output_size = 1\n",
        "\n",
        "learning_rate = 0.01\n",
        "nb_epochs = 200"
      ],
      "execution_count": null,
      "outputs": []
    },
    {
      "cell_type": "code",
      "metadata": {
        "id": "ZIi8z23_Sis0"
      },
      "source": [
        "class Model(nn.Module):\n",
        "    def __init__(self, input_size=5, hidden_size=10, output_size=1, num_layers=1):\n",
        "        super(Model, self).__init__()\n",
        "        # self.net = nn.RNN(input_size, hidden_size, batch_first=True, num_layers=num_layers)\n",
        "        # self.net = nn.LSTM(input_size, hidden_size, batch_first=True, num_layers=num_layers)\n",
        "        self.net = nn.GRU(input_size, hidden_size, batch_first=True, num_layers=num_layers)\n",
        "\n",
        "        self.fc = nn.Linear(hidden_size, output_size)\n",
        "\n",
        "    def forward(self, x):\n",
        "        out, _ = self.net(x)      # 모든 시점(timesteps)의 hidden states  out: 마지막 시점(timestep)의 hidden state\n",
        "        out = self.fc(out[:, -1])\n",
        "        return out"
      ],
      "execution_count": null,
      "outputs": []
    },
    {
      "cell_type": "code",
      "metadata": {
        "id": "RU1crOcDbF-V"
      },
      "source": [
        "model = Model(input_size=input_size,\n",
        "              hidden_size=hidden_size,\n",
        "              output_size=output_size)\n",
        "model = model.to(device)"
      ],
      "execution_count": null,
      "outputs": []
    },
    {
      "cell_type": "markdown",
      "metadata": {
        "id": "ZirP3Yppb5Lh"
      },
      "source": [
        "## **5. 학습**\n",
        "---\n",
        "\n"
      ]
    },
    {
      "cell_type": "code",
      "metadata": {
        "id": "y7sI_ZGmbt79"
      },
      "source": [
        "# loss & optimizer setting\n",
        "\n",
        "criterion = nn.MSELoss()\n",
        "optimizer = optim.Adam(model.parameters(), lr=learning_rate)"
      ],
      "execution_count": null,
      "outputs": []
    },
    {
      "cell_type": "code",
      "metadata": {
        "id": "fCgdp8BIdkiq"
      },
      "source": [
        "def model_train(model, train_loader, criterion, optimizer):\n",
        "    model.train()\n",
        "    train_loss = 0\n",
        "    for batch_idx, (x_train, y_train) in enumerate(train_loader): \n",
        "        x_train, y_train = x_train.to(device), y_train.to(device)\n",
        "        prediction = model(x_train)\n",
        "        loss = criterion(prediction, y_train)\n",
        "        train_loss += loss\n",
        "\n",
        "        optimizer.zero_grad()\n",
        "        loss.backward()\n",
        "        optimizer.step()\n",
        "\n",
        "    return train_loss\n",
        "\n",
        "\n",
        "def model_test(model, test_loader, criterion):\n",
        "    model.eval()\n",
        "    for (x_test, y_test) in test_loader:\n",
        "        x_test, y_test = x_test.to(device), y_test.to(device)\n",
        "        prediction = model(x_test)\n",
        "        loss = criterion(prediction, y_test)\n",
        "\n",
        "    return loss"
      ],
      "execution_count": null,
      "outputs": []
    },
    {
      "cell_type": "code",
      "metadata": {
        "colab": {
          "base_uri": "https://localhost:8080/"
        },
        "id": "WlNlWI6tcK3M",
        "outputId": "168f2c96-f7a0-4012-eadd-745fa3457943"
      },
      "source": [
        "# train start\n",
        "\n",
        "for epoch_idx in range(nb_epochs + 1):\n",
        "    if epoch_idx % 10 == 0:\n",
        "        print('[ Epoch: {:4d}/{} ]'.format(epoch_idx, nb_epochs), end='\\t')  \n",
        "\n",
        "        train_loss = model_train(model, train_loader, criterion, optimizer)\n",
        "        test_loss = model_test(model, test_loader, criterion)\n",
        "\n",
        "        print('train_loss : {:.4f} \\t test_loss : {:.4f}'.format(train_loss, test_loss))"
      ],
      "execution_count": null,
      "outputs": [
        {
          "output_type": "stream",
          "text": [
            "[ Epoch:    0/200 ]\ttrain_loss : 0.0691 \t test_loss : 0.0045\n",
            "[ Epoch:   10/200 ]\ttrain_loss : 0.0699 \t test_loss : 0.0065\n",
            "[ Epoch:   20/200 ]\ttrain_loss : 0.0521 \t test_loss : 0.0552\n",
            "[ Epoch:   30/200 ]\ttrain_loss : 0.0266 \t test_loss : 0.0196\n",
            "[ Epoch:   40/200 ]\ttrain_loss : 0.0092 \t test_loss : 0.0026\n",
            "[ Epoch:   50/200 ]\ttrain_loss : 0.0182 \t test_loss : 0.0023\n",
            "[ Epoch:   60/200 ]\ttrain_loss : 0.0100 \t test_loss : 0.0054\n",
            "[ Epoch:   70/200 ]\ttrain_loss : 0.0117 \t test_loss : 0.0063\n",
            "[ Epoch:   80/200 ]\ttrain_loss : 0.0099 \t test_loss : 0.0025\n",
            "[ Epoch:   90/200 ]\ttrain_loss : 0.0096 \t test_loss : 0.0021\n",
            "[ Epoch:  100/200 ]\ttrain_loss : 0.0086 \t test_loss : 0.0034\n",
            "[ Epoch:  110/200 ]\ttrain_loss : 0.0085 \t test_loss : 0.0058\n",
            "[ Epoch:  120/200 ]\ttrain_loss : 0.0080 \t test_loss : 0.0044\n",
            "[ Epoch:  130/200 ]\ttrain_loss : 0.0076 \t test_loss : 0.0033\n",
            "[ Epoch:  140/200 ]\ttrain_loss : 0.0079 \t test_loss : 0.0038\n",
            "[ Epoch:  150/200 ]\ttrain_loss : 0.0077 \t test_loss : 0.0044\n",
            "[ Epoch:  160/200 ]\ttrain_loss : 0.0074 \t test_loss : 0.0036\n",
            "[ Epoch:  170/200 ]\ttrain_loss : 0.0073 \t test_loss : 0.0029\n",
            "[ Epoch:  180/200 ]\ttrain_loss : 0.0073 \t test_loss : 0.0031\n",
            "[ Epoch:  190/200 ]\ttrain_loss : 0.0072 \t test_loss : 0.0033\n",
            "[ Epoch:  200/200 ]\ttrain_loss : 0.0071 \t test_loss : 0.0030\n"
          ],
          "name": "stdout"
        }
      ]
    }
  ]
}