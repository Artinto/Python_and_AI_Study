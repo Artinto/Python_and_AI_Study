{
  "nbformat": 4,
  "nbformat_minor": 0,
  "metadata": {
    "colab": {
      "name": "Main_HW_LGY",
      "provenance": [],
      "collapsed_sections": []
    },
    "kernelspec": {
      "name": "python3",
      "display_name": "Python 3"
    },
    "language_info": {
      "name": "python"
    },
    "accelerator": "GPU"
  },
  "cells": [
    {
      "cell_type": "markdown",
      "metadata": {
        "id": "yd492Kyqh7JE"
      },
      "source": [
        "# 실습 2: Softmax Classification 만들기"
      ]
    },
    {
      "cell_type": "markdown",
      "metadata": {
        "id": "LHpyz-wWjP5J"
      },
      "source": [
        "## 1. 필요한 모듈 선언하기"
      ]
    },
    {
      "cell_type": "code",
      "metadata": {
        "id": "Cc3QUqfnhZFd"
      },
      "source": [
        "import torch \n",
        "from torch import nn, optim, cuda\n",
        "from torch.utils import data\n",
        "import torch.nn.functional as F\n",
        "import time\n",
        "import torchvision\n",
        "import torchvision.transforms as transforms\n",
        "import numpy as np"
      ],
      "execution_count": 22,
      "outputs": []
    },
    {
      "cell_type": "markdown",
      "metadata": {
        "id": "TKFp1lVajXUW"
      },
      "source": [
        "## 2. Device 선언 및 랜덤 시드 고정"
      ]
    },
    {
      "cell_type": "markdown",
      "metadata": {
        "id": "N99zNRQsjow2"
      },
      "source": [
        "### 2-1) device 선언"
      ]
    },
    {
      "cell_type": "code",
      "metadata": {
        "id": "TENGKZT9jZrb"
      },
      "source": [
        "device = 'cuda' if cuda.is_available() else 'cpu' # GPU 사용가능하면 사용, 없으면 CPU"
      ],
      "execution_count": 23,
      "outputs": []
    },
    {
      "cell_type": "markdown",
      "metadata": {
        "id": "uHb1vR39j2wU"
      },
      "source": [
        "### 2-2) 랜덤 시드 고정"
      ]
    },
    {
      "cell_type": "code",
      "metadata": {
        "id": "0XoiNlJIj72v"
      },
      "source": [
        "torch.manual_seed(777)\n",
        "if device=='cuda':\n",
        "  torch.cuda.manual_seed_all(777)\n",
        "# np.random.seed(777)\n"
      ],
      "execution_count": 24,
      "outputs": []
    },
    {
      "cell_type": "markdown",
      "metadata": {
        "id": "lAcqh5hVt943"
      },
      "source": [
        "## 3. 데이터셋 불러오기¶"
      ]
    },
    {
      "cell_type": "markdown",
      "metadata": {
        "id": "WPfoqcabKWbT"
      },
      "source": [
        "### 3-1) 이미지 전처리"
      ]
    },
    {
      "cell_type": "code",
      "metadata": {
        "id": "lCHSNoXnhijY"
      },
      "source": [
        "transform = transforms.Compose([transforms.ToTensor(),transforms.Normalize((0.5, 0.5, 0.5), (0.5, 0.5, 0.5))])"
      ],
      "execution_count": 25,
      "outputs": []
    },
    {
      "cell_type": "markdown",
      "metadata": {
        "id": "7ANqumQyKkjg"
      },
      "source": [
        "### 3-2) 데이터셋 불러오기"
      ]
    },
    {
      "cell_type": "code",
      "metadata": {
        "colab": {
          "base_uri": "https://localhost:8080/"
        },
        "id": "Q3MIedSyKddE",
        "outputId": "377bd991-8970-4e57-8eca-3408eb607d2d"
      },
      "source": [
        "trainset = torchvision.datasets.CIFAR10(root='./data', train=True,\n",
        "                                        download=True, transform=transform)\n",
        "trainloader = torch.utils.data.DataLoader(trainset, batch_size=128,\n",
        "                                          shuffle=True, num_workers=2)\n",
        "\n",
        "testset = torchvision.datasets.CIFAR10(root='./data', train=False,\n",
        "                                       download=True, transform=transform)\n",
        "testloader = torch.utils.data.DataLoader(testset, batch_size=64,\n",
        "                                         shuffle=False, num_workers=2)\n",
        "\n",
        "classes = ('plane', 'car', 'bird', 'cat',\n",
        "           'deer', 'dog', 'frog', 'horse', 'ship', 'truck')"
      ],
      "execution_count": 26,
      "outputs": [
        {
          "output_type": "stream",
          "text": [
            "Files already downloaded and verified\n",
            "Files already downloaded and verified\n"
          ],
          "name": "stdout"
        }
      ]
    },
    {
      "cell_type": "markdown",
      "metadata": {
        "id": "igINBGCNK6df"
      },
      "source": [
        "## 4. 모델 선언"
      ]
    },
    {
      "cell_type": "markdown",
      "metadata": {
        "id": "CO0Wu_fRLAQ0"
      },
      "source": [
        "### 4-1) class로 Model 만들기 "
      ]
    },
    {
      "cell_type": "code",
      "metadata": {
        "id": "Jc_NlSj9hlhy"
      },
      "source": [
        "class Net(nn.Module):\n",
        "    def __init__(self):\n",
        "        super(Net, self).__init__()\n",
        "        self.l1 = nn.Linear(3072, 1024) \n",
        "        self.l2 = nn.Linear(1024, 512)\n",
        "        self.l3 = nn.Linear(512, 240)\n",
        "        self.l4 = nn.Linear(240, 120)\n",
        "        self.l5 = nn.Linear(120, 10) \n",
        "\n",
        "    def forward(self, x):\n",
        "        x = x.view(-1,3072)\n",
        "        x = F.relu(self.l1(x))\n",
        "        x = F.relu(self.l2(x))\n",
        "        x = F.relu(self.l3(x))\n",
        "        x = F.relu(self.l4(x))\n",
        "        return self.l5(x)"
      ],
      "execution_count": 28,
      "outputs": []
    },
    {
      "cell_type": "markdown",
      "metadata": {
        "id": "8e_b4-XlLgOg"
      },
      "source": [
        "4-2) Model 선언"
      ]
    },
    {
      "cell_type": "code",
      "metadata": {
        "colab": {
          "base_uri": "https://localhost:8080/"
        },
        "id": "Pk5FJfYQhnwL",
        "outputId": "3a39ca12-09c5-4663-8c83-06da7f25ca67"
      },
      "source": [
        "model = Net()\n",
        "model.to(device)"
      ],
      "execution_count": 29,
      "outputs": [
        {
          "output_type": "execute_result",
          "data": {
            "text/plain": [
              "Net(\n",
              "  (l1): Linear(in_features=3072, out_features=1024, bias=True)\n",
              "  (l2): Linear(in_features=1024, out_features=512, bias=True)\n",
              "  (l3): Linear(in_features=512, out_features=240, bias=True)\n",
              "  (l4): Linear(in_features=240, out_features=120, bias=True)\n",
              "  (l5): Linear(in_features=120, out_features=10, bias=True)\n",
              ")"
            ]
          },
          "metadata": {
            "tags": []
          },
          "execution_count": 29
        }
      ]
    },
    {
      "cell_type": "markdown",
      "metadata": {
        "id": "GPtNbBQFLqXY"
      },
      "source": [
        "## 5. 학습 시작"
      ]
    },
    {
      "cell_type": "markdown",
      "metadata": {
        "id": "GuUreHQMLv7o"
      },
      "source": [
        "### 5-1) loss 및 optimizer 선언"
      ]
    },
    {
      "cell_type": "code",
      "metadata": {
        "id": "AcOIxvSULpSu"
      },
      "source": [
        "criterion = nn.CrossEntropyLoss()\n",
        "optimizer = optim.SGD(model.parameters(), lr=0.001, momentum=0.5) "
      ],
      "execution_count": 36,
      "outputs": []
    },
    {
      "cell_type": "markdown",
      "metadata": {
        "id": "aqG6RMwmQpil"
      },
      "source": [
        "### 5-2) train, test 함수 "
      ]
    },
    {
      "cell_type": "code",
      "metadata": {
        "id": "CRJ06cXYL2QT"
      },
      "source": [
        " # 학습\n",
        "def train(epoch):\n",
        "    model.train()\n",
        "    # 모델을 학습 모드로 변환 \n",
        "    for batch_idx, (data, target) in enumerate(trainloader):\n",
        "        data, target = data.to(device), target.to(device)\n",
        "        optimizer.zero_grad()\n",
        "        output = model(data)\n",
        "        \n",
        "        loss = criterion(output, target) # torch.Size([4, 10]) torch.Size([4])\n",
        "        loss.backward()\n",
        "        optimizer.step()\n",
        "        if batch_idx % 100 == 0:\n",
        "            print('\\nTrain Epoch: {} | Batch Status: {}/{} ({:.0f}%) | Loss: {:.6f}'.format(epoch, batch_idx * len(data), len(trainloader.dataset),100. * batch_idx / len(trainloader), loss.item()))\n",
        "\n",
        "\n",
        "def test():\n",
        "    model.eval()\n",
        "    # 모델을 평가 모드로 변환 \n",
        "    test_loss = 0\n",
        "    correct = 0\n",
        "    for data, target in testloader:\n",
        "        data, target = data.to(device), target.to(device)\n",
        "        output = model(data)\n",
        "        # sum up batch loss\n",
        "        test_loss += criterion(output, target).item()\n",
        "        # get the index of the max\n",
        "        pred = output.data.max(1, keepdim=True)[1]\n",
        "        correct += pred.eq(target.data.view_as(pred)).cpu().sum()\n",
        "    \n",
        "    test_loss /= len(testloader.dataset)\n",
        "    print(f'===========================\\nTest set: Average loss: {test_loss:.4f}, Accuracy: {correct}/{len(testloader.dataset)} 'f'({100. * correct / len(testloader.dataset):.0f}%)')\n",
        "\n",
        "\n"
      ],
      "execution_count": 41,
      "outputs": []
    },
    {
      "cell_type": "code",
      "metadata": {
        "colab": {
          "base_uri": "https://localhost:8080/"
        },
        "id": "qzzlQmGWQ41L",
        "outputId": "ddbd33c0-a30d-41b8-874c-a37aca02e5fe"
      },
      "source": [
        "if __name__ == '__main__':\n",
        "    since = time.time()\n",
        "    for epoch in range(1, 10):\n",
        "        epoch_start = time.time() # 타이머 : 초.마이크로초\n",
        "        train(epoch)\n",
        "        m, s = divmod(time.time() - epoch_start, 60) #경과시간을 분과 초로 나타내려고\n",
        "        print(f'Training time: {m:.0f}m {s:.0f}s')\n",
        "        test()\n",
        "        m, s = divmod(time.time() - epoch_start, 60)\n",
        "        print(f'Testing time: {m:.0f}m {s:.0f}s')\n",
        "\n",
        "    m, s = divmod(time.time() - since, 60) # 에폭 다 돌았을 때 전체 걸린 시간\n",
        "    print(f'Total Time: {m:.0f}m {s:.0f}s\\nModel was trained on {device}!')"
      ],
      "execution_count": 42,
      "outputs": [
        {
          "output_type": "stream",
          "text": [
            "\n",
            "Train Epoch: 1 | Batch Status: 0/50000 (0%) | Loss: 0.708796\n",
            "\n",
            "Train Epoch: 1 | Batch Status: 12800/50000 (26%) | Loss: 0.504734\n",
            "\n",
            "Train Epoch: 1 | Batch Status: 25600/50000 (51%) | Loss: 0.626783\n",
            "\n",
            "Train Epoch: 1 | Batch Status: 38400/50000 (77%) | Loss: 0.556099\n",
            "Training time: 0m 8s\n",
            "===========================\n",
            "Test set: Average loss: 0.0223, Accuracy: 5522/10000 (55%)\n",
            "Testing time: 0m 10s\n",
            "\n",
            "Train Epoch: 2 | Batch Status: 0/50000 (0%) | Loss: 0.638900\n",
            "\n",
            "Train Epoch: 2 | Batch Status: 12800/50000 (26%) | Loss: 0.544315\n",
            "\n",
            "Train Epoch: 2 | Batch Status: 25600/50000 (51%) | Loss: 0.489214\n",
            "\n",
            "Train Epoch: 2 | Batch Status: 38400/50000 (77%) | Loss: 0.565880\n",
            "Training time: 0m 8s\n",
            "===========================\n",
            "Test set: Average loss: 0.0227, Accuracy: 5488/10000 (55%)\n",
            "Testing time: 0m 10s\n",
            "\n",
            "Train Epoch: 3 | Batch Status: 0/50000 (0%) | Loss: 0.549894\n",
            "\n",
            "Train Epoch: 3 | Batch Status: 12800/50000 (26%) | Loss: 0.548553\n",
            "\n",
            "Train Epoch: 3 | Batch Status: 25600/50000 (51%) | Loss: 0.510154\n",
            "\n",
            "Train Epoch: 3 | Batch Status: 38400/50000 (77%) | Loss: 0.452390\n",
            "Training time: 0m 8s\n",
            "===========================\n",
            "Test set: Average loss: 0.0226, Accuracy: 5519/10000 (55%)\n",
            "Testing time: 0m 10s\n",
            "\n",
            "Train Epoch: 4 | Batch Status: 0/50000 (0%) | Loss: 0.491369\n",
            "\n",
            "Train Epoch: 4 | Batch Status: 12800/50000 (26%) | Loss: 0.410409\n",
            "\n",
            "Train Epoch: 4 | Batch Status: 25600/50000 (51%) | Loss: 0.490010\n",
            "\n",
            "Train Epoch: 4 | Batch Status: 38400/50000 (77%) | Loss: 0.588148\n",
            "Training time: 0m 8s\n",
            "===========================\n",
            "Test set: Average loss: 0.0228, Accuracy: 5500/10000 (55%)\n",
            "Testing time: 0m 10s\n",
            "\n",
            "Train Epoch: 5 | Batch Status: 0/50000 (0%) | Loss: 0.550417\n",
            "\n",
            "Train Epoch: 5 | Batch Status: 12800/50000 (26%) | Loss: 0.474193\n",
            "\n",
            "Train Epoch: 5 | Batch Status: 25600/50000 (51%) | Loss: 0.481001\n",
            "\n",
            "Train Epoch: 5 | Batch Status: 38400/50000 (77%) | Loss: 0.550867\n",
            "Training time: 0m 8s\n",
            "===========================\n",
            "Test set: Average loss: 0.0231, Accuracy: 5461/10000 (55%)\n",
            "Testing time: 0m 10s\n",
            "\n",
            "Train Epoch: 6 | Batch Status: 0/50000 (0%) | Loss: 0.420567\n",
            "\n",
            "Train Epoch: 6 | Batch Status: 12800/50000 (26%) | Loss: 0.583589\n",
            "\n",
            "Train Epoch: 6 | Batch Status: 25600/50000 (51%) | Loss: 0.496921\n",
            "\n",
            "Train Epoch: 6 | Batch Status: 38400/50000 (77%) | Loss: 0.490752\n",
            "Training time: 0m 8s\n",
            "===========================\n",
            "Test set: Average loss: 0.0233, Accuracy: 5489/10000 (55%)\n",
            "Testing time: 0m 10s\n",
            "\n",
            "Train Epoch: 7 | Batch Status: 0/50000 (0%) | Loss: 0.472008\n",
            "\n",
            "Train Epoch: 7 | Batch Status: 12800/50000 (26%) | Loss: 0.495370\n",
            "\n",
            "Train Epoch: 7 | Batch Status: 25600/50000 (51%) | Loss: 0.571231\n",
            "\n",
            "Train Epoch: 7 | Batch Status: 38400/50000 (77%) | Loss: 0.593939\n",
            "Training time: 0m 8s\n",
            "===========================\n",
            "Test set: Average loss: 0.0233, Accuracy: 5488/10000 (55%)\n",
            "Testing time: 0m 10s\n",
            "\n",
            "Train Epoch: 8 | Batch Status: 0/50000 (0%) | Loss: 0.525237\n",
            "\n",
            "Train Epoch: 8 | Batch Status: 12800/50000 (26%) | Loss: 0.495423\n",
            "\n",
            "Train Epoch: 8 | Batch Status: 25600/50000 (51%) | Loss: 0.484002\n",
            "\n",
            "Train Epoch: 8 | Batch Status: 38400/50000 (77%) | Loss: 0.553466\n",
            "Training time: 0m 8s\n",
            "===========================\n",
            "Test set: Average loss: 0.0235, Accuracy: 5472/10000 (55%)\n",
            "Testing time: 0m 10s\n",
            "\n",
            "Train Epoch: 9 | Batch Status: 0/50000 (0%) | Loss: 0.382057\n",
            "\n",
            "Train Epoch: 9 | Batch Status: 12800/50000 (26%) | Loss: 0.487445\n",
            "\n",
            "Train Epoch: 9 | Batch Status: 25600/50000 (51%) | Loss: 0.393798\n",
            "\n",
            "Train Epoch: 9 | Batch Status: 38400/50000 (77%) | Loss: 0.524090\n",
            "Training time: 0m 8s\n",
            "===========================\n",
            "Test set: Average loss: 0.0236, Accuracy: 5467/10000 (55%)\n",
            "Testing time: 0m 10s\n",
            "Total Time: 1m 28s\n",
            "Model was trained on cuda!\n"
          ],
          "name": "stdout"
        }
      ]
    }
  ]
}